{
  "nbformat": 4,
  "nbformat_minor": 0,
  "metadata": {
    "colab": {
      "name": "Session 5.ipynb",
      "version": "0.3.2",
      "provenance": [],
      "collapsed_sections": []
    },
    "kernelspec": {
      "name": "python3",
      "display_name": "Python 3"
    },
    "accelerator": "GPU"
  },
  "cells": [
    {
      "cell_type": "code",
      "metadata": {
        "id": "Hb8FdhEH3UvJ",
        "colab_type": "code",
        "colab": {
          "base_uri": "https://localhost:8080/",
          "height": 121
        },
        "outputId": "6cda9bac-19da-479d-f239-4821571dd793"
      },
      "source": [
        "from google.colab import drive\n",
        "drive.mount(\"/content/gdrive\")"
      ],
      "execution_count": 46,
      "outputs": [
        {
          "output_type": "stream",
          "text": [
            "Go to this URL in a browser: https://accounts.google.com/o/oauth2/auth?client_id=947318989803-6bn6qk8qdgf4n4g3pfee6491hc0brc4i.apps.googleusercontent.com&redirect_uri=urn%3Aietf%3Awg%3Aoauth%3A2.0%3Aoob&scope=email%20https%3A%2F%2Fwww.googleapis.com%2Fauth%2Fdocs.test%20https%3A%2F%2Fwww.googleapis.com%2Fauth%2Fdrive%20https%3A%2F%2Fwww.googleapis.com%2Fauth%2Fdrive.photos.readonly%20https%3A%2F%2Fwww.googleapis.com%2Fauth%2Fpeopleapi.readonly&response_type=code\n",
            "\n",
            "Enter your authorization code:\n",
            "··········\n",
            "Mounted at /content/gdrive\n"
          ],
          "name": "stdout"
        }
      ]
    },
    {
      "cell_type": "code",
      "metadata": {
        "id": "L78h75_E3gL_",
        "colab_type": "code",
        "colab": {}
      },
      "source": [
        "import os\n",
        "\n",
        "os.chdir(\"/content/gdrive/My Drive/Colab Notebooks/EVA\")"
      ],
      "execution_count": 0,
      "outputs": []
    },
    {
      "cell_type": "code",
      "metadata": {
        "id": "0SJyVpgSxHt4",
        "colab_type": "code",
        "colab": {
          "base_uri": "https://localhost:8080/",
          "height": 34
        },
        "outputId": "0658ddbc-031a-4888-e1dc-758c188b2375"
      },
      "source": [
        "import numpy as np\n",
        "\n",
        "from keras.models import Sequential\n",
        "from keras.layers import Dense, Dropout, Activation, Flatten, Add, BatchNormalization\n",
        "from keras.layers import Convolution2D, MaxPooling2D\n",
        "from keras.utils import np_utils\n",
        "\n",
        "from keras.datasets import mnist"
      ],
      "execution_count": 1,
      "outputs": [
        {
          "output_type": "stream",
          "text": [
            "Using TensorFlow backend.\n"
          ],
          "name": "stderr"
        }
      ]
    },
    {
      "cell_type": "code",
      "metadata": {
        "id": "YlEUplvoxKAT",
        "colab_type": "code",
        "colab": {
          "base_uri": "https://localhost:8080/",
          "height": 50
        },
        "outputId": "8fc5c6c4-7cac-4fd4-c421-570654c37f94"
      },
      "source": [
        "(X_train, y_train), (X_test, y_test) = mnist.load_data()\n"
      ],
      "execution_count": 2,
      "outputs": [
        {
          "output_type": "stream",
          "text": [
            "Downloading data from https://s3.amazonaws.com/img-datasets/mnist.npz\n",
            "11493376/11490434 [==============================] - 2s 0us/step\n"
          ],
          "name": "stdout"
        }
      ]
    },
    {
      "cell_type": "code",
      "metadata": {
        "id": "I6Y9Va-xxMXG",
        "colab_type": "code",
        "outputId": "bf840c92-7128-47f6-9d69-503ad6dc9900",
        "colab": {
          "base_uri": "https://localhost:8080/",
          "height": 302
        }
      },
      "source": [
        "print (X_train.shape)\n",
        "from matplotlib import pyplot as plt\n",
        "%matplotlib inline\n",
        "plt.imshow(X_train[1])"
      ],
      "execution_count": 3,
      "outputs": [
        {
          "output_type": "stream",
          "text": [
            "(60000, 28, 28)\n"
          ],
          "name": "stdout"
        },
        {
          "output_type": "execute_result",
          "data": {
            "text/plain": [
              "<matplotlib.image.AxesImage at 0x7f367e52fef0>"
            ]
          },
          "metadata": {
            "tags": []
          },
          "execution_count": 3
        },
        {
          "output_type": "display_data",
          "data": {
            "image/png": "[encoded data removed]",
            "text/plain": [
              "<Figure size 432x288 with 1 Axes>"
            ]
          },
          "metadata": {
            "tags": []
          }
        }
      ]
    },
    {
      "cell_type": "code",
      "metadata": {
        "id": "lxDZxPhhxOgO",
        "colab_type": "code",
        "colab": {}
      },
      "source": [
        "X_train = X_train.reshape(X_train.shape[0], 28, 28,1)\n",
        "X_test = X_test.reshape(X_test.shape[0], 28, 28,1)"
      ],
      "execution_count": 0,
      "outputs": []
    },
    {
      "cell_type": "code",
      "metadata": {
        "id": "MtMcQvJ9wQQf",
        "colab_type": "code",
        "colab": {}
      },
      "source": [
        "X_train = X_train.astype('float32')\n",
        "X_test = X_test.astype('float32')\n",
        "mu = np.mean(X_train)\n",
        "sigma = np.std(X_train)"
      ],
      "execution_count": 0,
      "outputs": []
    },
    {
      "cell_type": "code",
      "metadata": {
        "id": "3HzMqbTnxQQW",
        "colab_type": "code",
        "colab": {}
      },
      "source": [
        "X_train_norm = (X_train-mu)/sigma\n",
        "X_test_norm = (X_test-mu)/sigma"
      ],
      "execution_count": 0,
      "outputs": []
    },
    {
      "cell_type": "code",
      "metadata": {
        "id": "7LdYiW6ixR9e",
        "colab_type": "code",
        "colab": {}
      },
      "source": [
        "Y_train = np_utils.to_categorical(y_train, 10)\n",
        "Y_test = np_utils.to_categorical(y_test, 10)"
      ],
      "execution_count": 0,
      "outputs": []
    },
    {
      "cell_type": "code",
      "metadata": {
        "id": "rFR0F9j0xVp2",
        "colab_type": "code",
        "outputId": "728dc599-d050-494b-eb9a-ee09d1a5ffeb",
        "colab": {
          "base_uri": "https://localhost:8080/",
          "height": 185
        }
      },
      "source": [
        "Y_train[:10]"
      ],
      "execution_count": 9,
      "outputs": [
        {
          "output_type": "execute_result",
          "data": {
            "text/plain": [
              "array([[0., 0., 0., 0., 0., 1., 0., 0., 0., 0.],\n",
              "       [1., 0., 0., 0., 0., 0., 0., 0., 0., 0.],\n",
              "       [0., 0., 0., 0., 1., 0., 0., 0., 0., 0.],\n",
              "       [0., 1., 0., 0., 0., 0., 0., 0., 0., 0.],\n",
              "       [0., 0., 0., 0., 0., 0., 0., 0., 0., 1.],\n",
              "       [0., 0., 1., 0., 0., 0., 0., 0., 0., 0.],\n",
              "       [0., 1., 0., 0., 0., 0., 0., 0., 0., 0.],\n",
              "       [0., 0., 0., 1., 0., 0., 0., 0., 0., 0.],\n",
              "       [0., 1., 0., 0., 0., 0., 0., 0., 0., 0.],\n",
              "       [0., 0., 0., 0., 1., 0., 0., 0., 0., 0.]], dtype=float32)"
            ]
          },
          "metadata": {
            "tags": []
          },
          "execution_count": 9
        }
      ]
    },
    {
      "cell_type": "code",
      "metadata": {
        "id": "mDpXf4YQxXRm",
        "colab_type": "code",
        "outputId": "11811eeb-6129-4c29-d76b-abf16306dc59",
        "colab": {
          "base_uri": "https://localhost:8080/",
          "height": 1000
        }
      },
      "source": [
        "from keras.layers import Activation\n",
        "model = Sequential()\n",
        " \n",
        "model.add(Convolution2D(16, 3, 3, input_shape=(28,28,1))) #26\n",
        "model.add(BatchNormalization())\n",
        "model.add(Activation('relu'))\n",
        "model.add(Dropout(0.1))\n",
        "\n",
        "model.add(Convolution2D(32, 3, 3)) #24\n",
        "model.add(BatchNormalization())\n",
        "model.add(Activation('relu'))\n",
        "model.add(Dropout(0.1))\n",
        "\n",
        "model.add(Convolution2D(10, 1, 1, activation='relu')) #22\n",
        "\n",
        "model.add(MaxPooling2D(pool_size=(2, 2)))#11\n",
        "\n",
        "model.add(Convolution2D(16, 3, 3))#9\n",
        "model.add(BatchNormalization())\n",
        "model.add(Activation('relu'))\n",
        "model.add(Dropout(0.1))\n",
        "\n",
        "\n",
        "model.add(Convolution2D(16, 3, 3))#7\n",
        "model.add(BatchNormalization())\n",
        "model.add(Activation('relu'))\n",
        "model.add(Dropout(0.1))\n",
        "\n",
        "\n",
        "model.add(Convolution2D(16, 3, 3))#5\n",
        "model.add(BatchNormalization())\n",
        "model.add(Activation('relu'))\n",
        "model.add(Dropout(0.1))\n",
        "\n",
        "\n",
        "model.add(Convolution2D(16, 3, 3))#3\n",
        "model.add(BatchNormalization())\n",
        "model.add(Activation('relu'))\n",
        "model.add(Dropout(0.1))\n",
        "\n",
        "\n",
        "model.add(Convolution2D(10, 4, 4))\n",
        "model.add(BatchNormalization())\n",
        "model.add(Activation('relu'))\n",
        "model.add(Dropout(0.1))\n",
        "\n",
        "\n",
        "model.add(Flatten())\n",
        "model.add(Activation('softmax'))\n",
        "\n",
        "\n",
        "model.summary()"
      ],
      "execution_count": 48,
      "outputs": [
        {
          "output_type": "stream",
          "text": [
            "/usr/local/lib/python3.6/dist-packages/ipykernel_launcher.py:4: UserWarning: Update your `Conv2D` call to the Keras 2 API: `Conv2D(16, (3, 3), input_shape=(28, 28, 1...)`\n",
            "  after removing the cwd from sys.path.\n",
            "/usr/local/lib/python3.6/dist-packages/ipykernel_launcher.py:9: UserWarning: Update your `Conv2D` call to the Keras 2 API: `Conv2D(32, (3, 3))`\n",
            "  if __name__ == '__main__':\n",
            "/usr/local/lib/python3.6/dist-packages/ipykernel_launcher.py:14: UserWarning: Update your `Conv2D` call to the Keras 2 API: `Conv2D(10, (1, 1), activation=\"relu\")`\n",
            "  \n",
            "/usr/local/lib/python3.6/dist-packages/ipykernel_launcher.py:18: UserWarning: Update your `Conv2D` call to the Keras 2 API: `Conv2D(16, (3, 3))`\n",
            "/usr/local/lib/python3.6/dist-packages/ipykernel_launcher.py:24: UserWarning: Update your `Conv2D` call to the Keras 2 API: `Conv2D(16, (3, 3))`\n",
            "/usr/local/lib/python3.6/dist-packages/ipykernel_launcher.py:30: UserWarning: Update your `Conv2D` call to the Keras 2 API: `Conv2D(16, (3, 3))`\n",
            "/usr/local/lib/python3.6/dist-packages/ipykernel_launcher.py:36: UserWarning: Update your `Conv2D` call to the Keras 2 API: `Conv2D(16, (3, 3))`\n",
            "/usr/local/lib/python3.6/dist-packages/ipykernel_launcher.py:42: UserWarning: Update your `Conv2D` call to the Keras 2 API: `Conv2D(10, (4, 4))`\n"
          ],
          "name": "stderr"
        },
        {
          "output_type": "stream",
          "text": [
            "_________________________________________________________________\n",
            "Layer (type)                 Output Shape              Param #   \n",
            "=================================================================\n",
            "conv2d_9 (Conv2D)            (None, 26, 26, 16)        160       \n",
            "_________________________________________________________________\n",
            "batch_normalization_8 (Batch (None, 26, 26, 16)        64        \n",
            "_________________________________________________________________\n",
            "activation_9 (Activation)    (None, 26, 26, 16)        0         \n",
            "_________________________________________________________________\n",
            "dropout_8 (Dropout)          (None, 26, 26, 16)        0         \n",
            "_________________________________________________________________\n",
            "conv2d_10 (Conv2D)           (None, 24, 24, 32)        4640      \n",
            "_________________________________________________________________\n",
            "batch_normalization_9 (Batch (None, 24, 24, 32)        128       \n",
            "_________________________________________________________________\n",
            "activation_10 (Activation)   (None, 24, 24, 32)        0         \n",
            "_________________________________________________________________\n",
            "dropout_9 (Dropout)          (None, 24, 24, 32)        0         \n",
            "_________________________________________________________________\n",
            "conv2d_11 (Conv2D)           (None, 24, 24, 10)        330       \n",
            "_________________________________________________________________\n",
            "max_pooling2d_2 (MaxPooling2 (None, 12, 12, 10)        0         \n",
            "_________________________________________________________________\n",
            "conv2d_12 (Conv2D)           (None, 10, 10, 16)        1456      \n",
            "_________________________________________________________________\n",
            "batch_normalization_10 (Batc (None, 10, 10, 16)        64        \n",
            "_________________________________________________________________\n",
            "activation_11 (Activation)   (None, 10, 10, 16)        0         \n",
            "_________________________________________________________________\n",
            "dropout_10 (Dropout)         (None, 10, 10, 16)        0         \n",
            "_________________________________________________________________\n",
            "conv2d_13 (Conv2D)           (None, 8, 8, 16)          2320      \n",
            "_________________________________________________________________\n",
            "batch_normalization_11 (Batc (None, 8, 8, 16)          64        \n",
            "_________________________________________________________________\n",
            "activation_12 (Activation)   (None, 8, 8, 16)          0         \n",
            "_________________________________________________________________\n",
            "dropout_11 (Dropout)         (None, 8, 8, 16)          0         \n",
            "_________________________________________________________________\n",
            "conv2d_14 (Conv2D)           (None, 6, 6, 16)          2320      \n",
            "_________________________________________________________________\n",
            "batch_normalization_12 (Batc (None, 6, 6, 16)          64        \n",
            "_________________________________________________________________\n",
            "activation_13 (Activation)   (None, 6, 6, 16)          0         \n",
            "_________________________________________________________________\n",
            "dropout_12 (Dropout)         (None, 6, 6, 16)          0         \n",
            "_________________________________________________________________\n",
            "conv2d_15 (Conv2D)           (None, 4, 4, 16)          2320      \n",
            "_________________________________________________________________\n",
            "batch_normalization_13 (Batc (None, 4, 4, 16)          64        \n",
            "_________________________________________________________________\n",
            "activation_14 (Activation)   (None, 4, 4, 16)          0         \n",
            "_________________________________________________________________\n",
            "dropout_13 (Dropout)         (None, 4, 4, 16)          0         \n",
            "_________________________________________________________________\n",
            "conv2d_16 (Conv2D)           (None, 1, 1, 10)          2570      \n",
            "_________________________________________________________________\n",
            "batch_normalization_14 (Batc (None, 1, 1, 10)          40        \n",
            "_________________________________________________________________\n",
            "activation_15 (Activation)   (None, 1, 1, 10)          0         \n",
            "_________________________________________________________________\n",
            "dropout_14 (Dropout)         (None, 1, 1, 10)          0         \n",
            "_________________________________________________________________\n",
            "flatten_2 (Flatten)          (None, 10)                0         \n",
            "_________________________________________________________________\n",
            "activation_16 (Activation)   (None, 10)                0         \n",
            "=================================================================\n",
            "Total params: 16,604\n",
            "Trainable params: 16,360\n",
            "Non-trainable params: 244\n",
            "_________________________________________________________________\n"
          ],
          "name": "stdout"
        }
      ]
    },
    {
      "cell_type": "code",
      "metadata": {
        "id": "VSI1nKavTOGM",
        "colab_type": "code",
        "colab": {}
      },
      "source": [
        "from keras import backend as K "
      ],
      "execution_count": 0,
      "outputs": []
    },
    {
      "cell_type": "code",
      "metadata": {
        "id": "W-IfpLJhT17i",
        "colab_type": "code",
        "colab": {}
      },
      "source": [
        "'''creating a custom loss function for adding l2 regularization.\n",
        "we haven't done hyperparameter tuning for the paramter lambda and \n",
        "we  taking it to be  as 0.01''' \n",
        "def loss_l2(model_weights, val=0.01):\n",
        "  model_weights = [weights.astype('float32') for weights in model_weights]\n",
        "  def loss_function(y_true, y_pred):\n",
        "    loss = K.categorical_crossentropy(y_true, y_pred)\n",
        "    for weights in model_weights:\n",
        "      loss += val*(K.sum(K.square(weights)))\n",
        "    return loss\n",
        "  \n",
        "  return loss_function"
      ],
      "execution_count": 0,
      "outputs": []
    },
    {
      "cell_type": "code",
      "metadata": {
        "id": "L2IicGJ4x3Be",
        "colab_type": "code",
        "outputId": "2f8a9cf8-c895-41e9-a96e-62b1d49e0a6d",
        "colab": {
          "base_uri": "https://localhost:8080/",
          "height": 1000
        }
      },
      "source": [
        "from keras.optimizers import Adam\n",
        "from keras.callbacks import LearningRateScheduler, ModelCheckpoint\n",
        "def scheduler(epoch, lr):\n",
        "  return round(0.003 * 1/(1 + 0.319 * epoch), 10)\n",
        "\n",
        "model.compile(loss=loss_l2(model.get_weights()), optimizer=Adam(lr=0.003), metrics=['accuracy'])\n",
        "\n",
        "filepath  = os.path.join(os.getcwd(), 'weights.{epoch:02d}-{val_acc:.2f}.h5' )\n",
        "checkpoint = ModelCheckpoint(filepath = filepath,\n",
        "                             monitor='val_acc', \n",
        "                             verbose=1, \n",
        "                             save_best_only=True)\n",
        "\n",
        "model.fit(X_train_norm, Y_train, batch_size=128, epochs=40, verbose=1, validation_data=(X_test_norm, Y_test),\n",
        "          callbacks=[LearningRateScheduler(scheduler, verbose=1), checkpoint])"
      ],
      "execution_count": 51,
      "outputs": [
        {
          "output_type": "stream",
          "text": [
            "Train on 60000 samples, validate on 10000 samples\n",
            "Epoch 1/40\n",
            "\n",
            "Epoch 00001: LearningRateScheduler setting learning rate to 0.003.\n",
            "60000/60000 [==============================] - 14s 235us/step - loss: 4.1745 - acc: 0.8341 - val_loss: 3.6919 - val_acc: 0.9832\n",
            "\n",
            "Epoch 00001: val_acc improved from -inf to 0.98320, saving model to /content/gdrive/My Drive/Colab Notebooks/EVA/weights.01-0.98.h5\n",
            "Epoch 2/40\n",
            "\n",
            "Epoch 00002: LearningRateScheduler setting learning rate to 0.0022744503.\n",
            "60000/60000 [==============================] - 12s 197us/step - loss: 3.9138 - acc: 0.8852 - val_loss: 3.6584 - val_acc: 0.9842\n",
            "\n",
            "Epoch 00002: val_acc improved from 0.98320 to 0.98420, saving model to /content/gdrive/My Drive/Colab Notebooks/EVA/weights.02-0.98.h5\n",
            "Epoch 3/40\n",
            "\n",
            "Epoch 00003: LearningRateScheduler setting learning rate to 0.0018315018.\n",
            "60000/60000 [==============================] - 12s 196us/step - loss: 3.8871 - acc: 0.8860 - val_loss: 3.6194 - val_acc: 0.9917\n",
            "\n",
            "Epoch 00003: val_acc improved from 0.98420 to 0.99170, saving model to /content/gdrive/My Drive/Colab Notebooks/EVA/weights.03-0.99.h5\n",
            "Epoch 4/40\n",
            "\n",
            "Epoch 00004: LearningRateScheduler setting learning rate to 0.0015329586.\n",
            "60000/60000 [==============================] - 12s 196us/step - loss: 3.8701 - acc: 0.8903 - val_loss: 3.6148 - val_acc: 0.9908\n",
            "\n",
            "Epoch 00004: val_acc did not improve from 0.99170\n",
            "Epoch 5/40\n",
            "\n",
            "Epoch 00005: LearningRateScheduler setting learning rate to 0.0013181019.\n",
            "60000/60000 [==============================] - 12s 196us/step - loss: 3.8604 - acc: 0.8931 - val_loss: 3.6138 - val_acc: 0.9905\n",
            "\n",
            "Epoch 00005: val_acc did not improve from 0.99170\n",
            "Epoch 6/40\n",
            "\n",
            "Epoch 00006: LearningRateScheduler setting learning rate to 0.0011560694.\n",
            "60000/60000 [==============================] - 12s 196us/step - loss: 3.8548 - acc: 0.8937 - val_loss: 3.6045 - val_acc: 0.9922\n",
            "\n",
            "Epoch 00006: val_acc improved from 0.99170 to 0.99220, saving model to /content/gdrive/My Drive/Colab Notebooks/EVA/weights.06-0.99.h5\n",
            "Epoch 7/40\n",
            "\n",
            "Epoch 00007: LearningRateScheduler setting learning rate to 0.0010295127.\n",
            "60000/60000 [==============================] - 12s 196us/step - loss: 3.8504 - acc: 0.8952 - val_loss: 3.5996 - val_acc: 0.9930\n",
            "\n",
            "Epoch 00007: val_acc improved from 0.99220 to 0.99300, saving model to /content/gdrive/My Drive/Colab Notebooks/EVA/weights.07-0.99.h5\n",
            "Epoch 8/40\n",
            "\n",
            "Epoch 00008: LearningRateScheduler setting learning rate to 0.0009279307.\n",
            "60000/60000 [==============================] - 12s 196us/step - loss: 3.8395 - acc: 0.8987 - val_loss: 3.5958 - val_acc: 0.9943\n",
            "\n",
            "Epoch 00008: val_acc improved from 0.99300 to 0.99430, saving model to /content/gdrive/My Drive/Colab Notebooks/EVA/weights.08-0.99.h5\n",
            "Epoch 9/40\n",
            "\n",
            "Epoch 00009: LearningRateScheduler setting learning rate to 0.0008445946.\n",
            "60000/60000 [==============================] - 12s 196us/step - loss: 3.8469 - acc: 0.8960 - val_loss: 3.5950 - val_acc: 0.9940\n",
            "\n",
            "Epoch 00009: val_acc did not improve from 0.99430\n",
            "Epoch 10/40\n",
            "\n",
            "Epoch 00010: LearningRateScheduler setting learning rate to 0.0007749935.\n",
            "60000/60000 [==============================] - 12s 194us/step - loss: 3.8448 - acc: 0.8955 - val_loss: 3.5949 - val_acc: 0.9932\n",
            "\n",
            "Epoch 00010: val_acc did not improve from 0.99430\n",
            "Epoch 11/40\n",
            "\n",
            "Epoch 00011: LearningRateScheduler setting learning rate to 0.0007159905.\n",
            "60000/60000 [==============================] - 12s 194us/step - loss: 3.8411 - acc: 0.8973 - val_loss: 3.5941 - val_acc: 0.9936\n",
            "\n",
            "Epoch 00011: val_acc did not improve from 0.99430\n",
            "Epoch 12/40\n",
            "\n",
            "Epoch 00012: LearningRateScheduler setting learning rate to 0.000665336.\n",
            "60000/60000 [==============================] - 12s 194us/step - loss: 3.8381 - acc: 0.8978 - val_loss: 3.5934 - val_acc: 0.9942\n",
            "\n",
            "Epoch 00012: val_acc did not improve from 0.99430\n",
            "Epoch 13/40\n",
            "\n",
            "Epoch 00013: LearningRateScheduler setting learning rate to 0.0006213753.\n",
            "60000/60000 [==============================] - 12s 192us/step - loss: 3.8395 - acc: 0.8979 - val_loss: 3.5954 - val_acc: 0.9940\n",
            "\n",
            "Epoch 00013: val_acc did not improve from 0.99430\n",
            "Epoch 14/40\n",
            "\n",
            "Epoch 00014: LearningRateScheduler setting learning rate to 0.0005828638.\n",
            "60000/60000 [==============================] - 12s 194us/step - loss: 3.8332 - acc: 0.8994 - val_loss: 3.5929 - val_acc: 0.9939\n",
            "\n",
            "Epoch 00014: val_acc did not improve from 0.99430\n",
            "Epoch 15/40\n",
            "\n",
            "Epoch 00015: LearningRateScheduler setting learning rate to 0.0005488474.\n",
            "60000/60000 [==============================] - 12s 195us/step - loss: 3.8327 - acc: 0.8998 - val_loss: 3.5967 - val_acc: 0.9927\n",
            "\n",
            "Epoch 00015: val_acc did not improve from 0.99430\n",
            "Epoch 16/40\n",
            "\n",
            "Epoch 00016: LearningRateScheduler setting learning rate to 0.0005185825.\n",
            "60000/60000 [==============================] - 12s 195us/step - loss: 3.8307 - acc: 0.9006 - val_loss: 3.5918 - val_acc: 0.9944\n",
            "\n",
            "Epoch 00016: val_acc improved from 0.99430 to 0.99440, saving model to /content/gdrive/My Drive/Colab Notebooks/EVA/weights.16-0.99.h5\n",
            "Epoch 17/40\n",
            "\n",
            "Epoch 00017: LearningRateScheduler setting learning rate to 0.000491481.\n",
            "60000/60000 [==============================] - 12s 194us/step - loss: 3.8357 - acc: 0.8984 - val_loss: 3.5902 - val_acc: 0.9937\n",
            "\n",
            "Epoch 00017: val_acc did not improve from 0.99440\n",
            "Epoch 18/40\n",
            "\n",
            "Epoch 00018: LearningRateScheduler setting learning rate to 0.0004670715.\n",
            "60000/60000 [==============================] - 12s 194us/step - loss: 3.8333 - acc: 0.8994 - val_loss: 3.5909 - val_acc: 0.9939\n",
            "\n",
            "Epoch 00018: val_acc did not improve from 0.99440\n",
            "Epoch 19/40\n",
            "\n",
            "Epoch 00019: LearningRateScheduler setting learning rate to 0.0004449718.\n",
            "60000/60000 [==============================] - 12s 196us/step - loss: 3.8318 - acc: 0.8997 - val_loss: 3.5917 - val_acc: 0.9941\n",
            "\n",
            "Epoch 00019: val_acc did not improve from 0.99440\n",
            "Epoch 20/40\n",
            "\n",
            "Epoch 00020: LearningRateScheduler setting learning rate to 0.000424869.\n",
            "60000/60000 [==============================] - 12s 196us/step - loss: 3.8292 - acc: 0.9008 - val_loss: 3.5907 - val_acc: 0.9939\n",
            "\n",
            "Epoch 00020: val_acc did not improve from 0.99440\n",
            "Epoch 21/40\n",
            "\n",
            "Epoch 00021: LearningRateScheduler setting learning rate to 0.0004065041.\n",
            "60000/60000 [==============================] - 12s 194us/step - loss: 3.8265 - acc: 0.9019 - val_loss: 3.5913 - val_acc: 0.9941\n",
            "\n",
            "Epoch 00021: val_acc did not improve from 0.99440\n",
            "Epoch 22/40\n",
            "\n",
            "Epoch 00022: LearningRateScheduler setting learning rate to 0.000389661.\n",
            "60000/60000 [==============================] - 12s 195us/step - loss: 3.8292 - acc: 0.9009 - val_loss: 3.5915 - val_acc: 0.9943\n",
            "\n",
            "Epoch 00022: val_acc did not improve from 0.99440\n",
            "Epoch 23/40\n",
            "\n",
            "Epoch 00023: LearningRateScheduler setting learning rate to 0.0003741581.\n",
            "60000/60000 [==============================] - 12s 193us/step - loss: 3.8269 - acc: 0.9020 - val_loss: 3.5906 - val_acc: 0.9935\n",
            "\n",
            "Epoch 00023: val_acc did not improve from 0.99440\n",
            "Epoch 24/40\n",
            "\n",
            "Epoch 00024: LearningRateScheduler setting learning rate to 0.0003598417.\n",
            "60000/60000 [==============================] - 12s 194us/step - loss: 3.8269 - acc: 0.9012 - val_loss: 3.5902 - val_acc: 0.9942\n",
            "\n",
            "Epoch 00024: val_acc did not improve from 0.99440\n",
            "Epoch 25/40\n",
            "\n",
            "Epoch 00025: LearningRateScheduler setting learning rate to 0.0003465804.\n",
            "60000/60000 [==============================] - 12s 193us/step - loss: 3.8272 - acc: 0.9014 - val_loss: 3.5896 - val_acc: 0.9948\n",
            "\n",
            "Epoch 00025: val_acc improved from 0.99440 to 0.99480, saving model to /content/gdrive/My Drive/Colab Notebooks/EVA/weights.25-0.99.h5\n",
            "Epoch 26/40\n",
            "\n",
            "Epoch 00026: LearningRateScheduler setting learning rate to 0.0003342618.\n",
            "60000/60000 [==============================] - 12s 192us/step - loss: 3.8272 - acc: 0.9010 - val_loss: 3.5905 - val_acc: 0.9940\n",
            "\n",
            "Epoch 00026: val_acc did not improve from 0.99480\n",
            "Epoch 27/40\n",
            "\n",
            "Epoch 00027: LearningRateScheduler setting learning rate to 0.0003227889.\n",
            "60000/60000 [==============================] - 11s 191us/step - loss: 3.8329 - acc: 0.8993 - val_loss: 3.5904 - val_acc: 0.9940\n",
            "\n",
            "Epoch 00027: val_acc did not improve from 0.99480\n",
            "Epoch 28/40\n",
            "\n",
            "Epoch 00028: LearningRateScheduler setting learning rate to 0.0003120774.\n",
            "60000/60000 [==============================] - 12s 194us/step - loss: 3.8240 - acc: 0.9024 - val_loss: 3.5914 - val_acc: 0.9937\n",
            "\n",
            "Epoch 00028: val_acc did not improve from 0.99480\n",
            "Epoch 29/40\n",
            "\n",
            "Epoch 00029: LearningRateScheduler setting learning rate to 0.000302054.\n",
            "60000/60000 [==============================] - 11s 191us/step - loss: 3.8272 - acc: 0.9013 - val_loss: 3.5895 - val_acc: 0.9943\n",
            "\n",
            "Epoch 00029: val_acc did not improve from 0.99480\n",
            "Epoch 30/40\n",
            "\n",
            "Epoch 00030: LearningRateScheduler setting learning rate to 0.0002926544.\n",
            "60000/60000 [==============================] - 11s 190us/step - loss: 3.8284 - acc: 0.9005 - val_loss: 3.5902 - val_acc: 0.9943\n",
            "\n",
            "Epoch 00030: val_acc did not improve from 0.99480\n",
            "Epoch 31/40\n",
            "\n",
            "Epoch 00031: LearningRateScheduler setting learning rate to 0.0002838221.\n",
            "60000/60000 [==============================] - 11s 190us/step - loss: 3.8266 - acc: 0.9014 - val_loss: 3.5899 - val_acc: 0.9945\n",
            "\n",
            "Epoch 00031: val_acc did not improve from 0.99480\n",
            "Epoch 32/40\n",
            "\n",
            "Epoch 00032: LearningRateScheduler setting learning rate to 0.0002755074.\n",
            "60000/60000 [==============================] - 11s 190us/step - loss: 3.8239 - acc: 0.9029 - val_loss: 3.5892 - val_acc: 0.9946\n",
            "\n",
            "Epoch 00032: val_acc did not improve from 0.99480\n",
            "Epoch 33/40\n",
            "\n",
            "Epoch 00033: LearningRateScheduler setting learning rate to 0.000267666.\n",
            "60000/60000 [==============================] - 11s 191us/step - loss: 3.8279 - acc: 0.9012 - val_loss: 3.5907 - val_acc: 0.9940\n",
            "\n",
            "Epoch 00033: val_acc did not improve from 0.99480\n",
            "Epoch 34/40\n",
            "\n",
            "Epoch 00034: LearningRateScheduler setting learning rate to 0.0002602585.\n",
            "60000/60000 [==============================] - 11s 190us/step - loss: 3.8244 - acc: 0.9025 - val_loss: 3.5899 - val_acc: 0.9942\n",
            "\n",
            "Epoch 00034: val_acc did not improve from 0.99480\n",
            "Epoch 35/40\n",
            "\n",
            "Epoch 00035: LearningRateScheduler setting learning rate to 0.00025325.\n",
            "60000/60000 [==============================] - 11s 191us/step - loss: 3.8283 - acc: 0.9009 - val_loss: 3.5899 - val_acc: 0.9941\n",
            "\n",
            "Epoch 00035: val_acc did not improve from 0.99480\n",
            "Epoch 36/40\n",
            "\n",
            "Epoch 00036: LearningRateScheduler setting learning rate to 0.0002466091.\n",
            "60000/60000 [==============================] - 11s 189us/step - loss: 3.8180 - acc: 0.9042 - val_loss: 3.5890 - val_acc: 0.9946\n",
            "\n",
            "Epoch 00036: val_acc did not improve from 0.99480\n",
            "Epoch 37/40\n",
            "\n",
            "Epoch 00037: LearningRateScheduler setting learning rate to 0.0002403076.\n",
            "60000/60000 [==============================] - 11s 189us/step - loss: 3.8205 - acc: 0.9033 - val_loss: 3.5909 - val_acc: 0.9938\n",
            "\n",
            "Epoch 00037: val_acc did not improve from 0.99480\n",
            "Epoch 38/40\n",
            "\n",
            "Epoch 00038: LearningRateScheduler setting learning rate to 0.0002343201.\n",
            "60000/60000 [==============================] - 11s 188us/step - loss: 3.8260 - acc: 0.9005 - val_loss: 3.5899 - val_acc: 0.9943\n",
            "\n",
            "Epoch 00038: val_acc did not improve from 0.99480\n",
            "Epoch 39/40\n",
            "\n",
            "Epoch 00039: LearningRateScheduler setting learning rate to 0.0002286237.\n",
            "60000/60000 [==============================] - 11s 190us/step - loss: 3.8235 - acc: 0.9032 - val_loss: 3.5892 - val_acc: 0.9946\n",
            "\n",
            "Epoch 00039: val_acc did not improve from 0.99480\n",
            "Epoch 40/40\n",
            "\n",
            "Epoch 00040: LearningRateScheduler setting learning rate to 0.0002231977.\n",
            "60000/60000 [==============================] - 11s 190us/step - loss: 3.8231 - acc: 0.9029 - val_loss: 3.5896 - val_acc: 0.9940\n",
            "\n",
            "Epoch 00040: val_acc did not improve from 0.99480\n"
          ],
          "name": "stdout"
        },
        {
          "output_type": "execute_result",
          "data": {
            "text/plain": [
              "<keras.callbacks.History at 0x7f362b81df98>"
            ]
          },
          "metadata": {
            "tags": []
          },
          "execution_count": 51
        }
      ]
    },
    {
      "cell_type": "code",
      "metadata": {
        "id": "WLxlW9ufyQiO",
        "colab_type": "code",
        "outputId": "b7a788bf-b3dd-46f6-ef23-6424043ff8db",
        "colab": {
          "base_uri": "https://localhost:8080/",
          "height": 34
        }
      },
      "source": [
        "# model at iteration 25 gave the highest validation accuracy\n",
        "\n",
        "score = model.evaluate(X_test_norm, Y_test, verbose=0)\n",
        "print(score)"
      ],
      "execution_count": 52,
      "outputs": [
        {
          "output_type": "stream",
          "text": [
            "[3.5896307823181153, 0.994]\n"
          ],
          "name": "stdout"
        }
      ]
    },
    {
      "cell_type": "code",
      "metadata": {
        "id": "m2qDl21ozBnW",
        "colab_type": "code",
        "colab": {}
      },
      "source": [
        "y_pred_prob = model.predict(X_test_norm)\n",
        "y_pred = np.argmax(y_pred_prob, axis=1)"
      ],
      "execution_count": 0,
      "outputs": []
    },
    {
      "cell_type": "code",
      "metadata": {
        "id": "NvTrBR2U7Q78",
        "colab_type": "code",
        "colab": {
          "base_uri": "https://localhost:8080/",
          "height": 34
        },
        "outputId": "b4b55d08-9f9a-4cbf-f273-08956c5792fb"
      },
      "source": [
        "# number of misclassified images\n",
        "10000-sum(y_pred == y_test)"
      ],
      "execution_count": 61,
      "outputs": [
        {
          "output_type": "execute_result",
          "data": {
            "text/plain": [
              "60"
            ]
          },
          "metadata": {
            "tags": []
          },
          "execution_count": 61
        }
      ]
    },
    {
      "cell_type": "code",
      "metadata": {
        "id": "birUPS038muO",
        "colab_type": "code",
        "colab": {
          "base_uri": "https://localhost:8080/",
          "height": 866
        },
        "outputId": "8ba5ad74-75d6-42c7-eddd-4363ea9a58cf"
      },
      "source": [
        "misclassified_indices = np.where(y_pred != y_test)\n",
        "fig, ax = plt.subplots(nrows=5, ncols=5, figsize=(15, 15))\n",
        "for row in range(5):\n",
        "  for col in range(5):\n",
        "    ax[row, col].imshow(X_test[misclassified_indices[0][row+col]])\n",
        "    actual = y_test[misclassified_indices[0][row+col]]\n",
        "    predicted = y_pred[misclassified_indices[0][row+col]]\n",
        "    title = f'Actual: {actual}, Predicted: {predicted}'\n",
        "    ax[row, col].title.set_text(title)\n",
        "    ax[row, col].set_xticklabels([])\n",
        "    ax[row, col].set_yticklabels([])\n",
        "    ax[row, col].set_xticks([])\n",
        "    ax[row, col].set_yticks([])\n",
        "plt.show()\n",
        "fig.tight_layout()"
      ],
      "execution_count": 93,
      "outputs": [
        {
          "output_type": "display_data",
          "data": {
            "image/png": "[encoded data removed]",
            "text/plain": [
              "<Figure size 1080x1080 with 25 Axes>"
            ]
          },
          "metadata": {
            "tags": []
          }
        }
      ]
    },
    {
      "cell_type": "code",
      "metadata": {
        "id": "QVe7EvXeAT4c",
        "colab_type": "code",
        "colab": {}
      },
      "source": [
        "# Its clear from the above images that even for a human eye these might lead to inconsistent results "
      ],
      "execution_count": 0,
      "outputs": []
    },
    {
      "cell_type": "code",
      "metadata": {
        "id": "1bz6_2EcDfwx",
        "colab_type": "code",
        "colab": {}
      },
      "source": [
        ""
      ],
      "execution_count": 0,
      "outputs": []
    }
  ]
}