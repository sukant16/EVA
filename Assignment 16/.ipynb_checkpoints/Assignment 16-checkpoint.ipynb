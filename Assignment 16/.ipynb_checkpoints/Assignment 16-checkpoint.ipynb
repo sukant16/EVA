{
 "cells": [
  {
   "cell_type": "code",
   "execution_count": 38,
   "metadata": {},
   "outputs": [],
   "source": [
    "from PIL import Image\n",
    "import os\n",
    "import matplotlib.pyplot as plt"
   ]
  },
  {
   "cell_type": "code",
   "execution_count": 39,
   "metadata": {},
   "outputs": [
    {
     "data": {
      "text/plain": [
       "'/Users/sarora48/Documents/Courses/EVA/Assignment 16'"
      ]
     },
     "execution_count": 39,
     "metadata": {},
     "output_type": "execute_result"
    }
   ],
   "source": [
    "os.getcwd()"
   ]
  },
  {
   "cell_type": "code",
   "execution_count": 40,
   "metadata": {},
   "outputs": [
    {
     "data": {
      "text/plain": [
       "(103, 99)"
      ]
     },
     "execution_count": 40,
     "metadata": {},
     "output_type": "execute_result"
    }
   ],
   "source": [
    "files = os.listdir(\"Photos/\")\n",
    "len(files), len([file for file in files if file.endswith(\".jpg\")])"
   ]
  },
  {
   "cell_type": "code",
   "execution_count": 41,
   "metadata": {},
   "outputs": [
    {
     "data": {
      "text/plain": [
       "['.DS_Store', 'images.jpeg', 'images (1).jpeg', '4.portraitist_cover.jpeg']"
      ]
     },
     "execution_count": 41,
     "metadata": {},
     "output_type": "execute_result"
    }
   ],
   "source": [
    "[file for file in files if not file.endswith(\".jpg\")]"
   ]
  },
  {
   "cell_type": "markdown",
   "metadata": {},
   "source": [
    "### Resizing the images"
   ]
  },
  {
   "cell_type": "code",
   "execution_count": 42,
   "metadata": {},
   "outputs": [],
   "source": [
    "size = (400, 400)\n",
    "for num in range(len(files)):\n",
    "    file_address = os.path.join(os.getcwd(), f\"Photos/{files[num]}\")\n",
    "    if not file_address.endswith(\"Store\"):\n",
    "        img = Image.open(file_address).resize((400, 400), Image.ANTIALIAS)\n",
    "        if num < 10:\n",
    "            img_name = f\"./Resized/img_00{num}.jpg\"\n",
    "        elif ((num>9) and (num<100)):\n",
    "            img_name = f\"./Resized/img_0{num}.jpg\"\n",
    "        else:\n",
    "            img_name = f\"./Resized/img_{num}.jpg\"\n",
    "        img.save(img_name, \"JPEG\", optimize=True)"
   ]
  },
  {
   "cell_type": "markdown",
   "metadata": {},
   "source": [
    "### Top-4 Anchor Boxes using K-means Clustering "
   ]
  },
  {
   "cell_type": "code",
   "execution_count": 43,
   "metadata": {},
   "outputs": [
    {
     "name": "stderr",
     "output_type": "stream",
     "text": [
      "/anaconda3/lib/python3.6/importlib/_bootstrap.py:219: RuntimeWarning: numpy.ufunc size changed, may indicate binary incompatibility. Expected 216, got 192\n",
      "  return f(*args, **kwds)\n",
      "/anaconda3/lib/python3.6/importlib/_bootstrap.py:219: RuntimeWarning: numpy.ufunc size changed, may indicate binary incompatibility. Expected 216, got 192\n",
      "  return f(*args, **kwds)\n",
      "/anaconda3/lib/python3.6/importlib/_bootstrap.py:219: RuntimeWarning: numpy.ufunc size changed, may indicate binary incompatibility. Expected 192 from C header, got 216 from PyObject\n",
      "  return f(*args, **kwds)\n"
     ]
    }
   ],
   "source": [
    "import pandas as pd\n",
    "from sklearn.cluster import KMeans\n",
    "import seaborn as sns"
   ]
  },
  {
   "cell_type": "code",
   "execution_count": 69,
   "metadata": {},
   "outputs": [
    {
     "data": {
      "text/html": [
       "<div>\n",
       "<style scoped>\n",
       "    .dataframe tbody tr th:only-of-type {\n",
       "        vertical-align: middle;\n",
       "    }\n",
       "\n",
       "    .dataframe tbody tr th {\n",
       "        vertical-align: top;\n",
       "    }\n",
       "\n",
       "    .dataframe thead th {\n",
       "        text-align: right;\n",
       "    }\n",
       "</style>\n",
       "<table border=\"1\" class=\"dataframe\">\n",
       "  <thead>\n",
       "    <tr style=\"text-align: right;\">\n",
       "      <th></th>\n",
       "      <th>file_list</th>\n",
       "      <th>spatial_coordinates</th>\n",
       "      <th>metadata</th>\n",
       "    </tr>\n",
       "  </thead>\n",
       "  <tbody>\n",
       "    <tr>\n",
       "      <th>0</th>\n",
       "      <td>[\"img_000.jpg\"]</td>\n",
       "      <td>[2,159.214,154.791,48.648,67.322]</td>\n",
       "      <td>{}</td>\n",
       "    </tr>\n",
       "    <tr>\n",
       "      <th>1</th>\n",
       "      <td>[\"img_001.jpg\"]</td>\n",
       "      <td>[2,29.975,46.192,63.882,153.808]</td>\n",
       "      <td>{}</td>\n",
       "    </tr>\n",
       "    <tr>\n",
       "      <th>2</th>\n",
       "      <td>[\"img_001.jpg\"]</td>\n",
       "      <td>[2,159.214,51.106,93.366,191.646]</td>\n",
       "      <td>{}</td>\n",
       "    </tr>\n",
       "    <tr>\n",
       "      <th>3</th>\n",
       "      <td>[\"img_001.jpg\"]</td>\n",
       "      <td>[2,292.383,26.536,65.357,164.619]</td>\n",
       "      <td>{}</td>\n",
       "    </tr>\n",
       "    <tr>\n",
       "      <th>4</th>\n",
       "      <td>[\"img_002.jpg\"]</td>\n",
       "      <td>[2,190.172,49.631,117.445,239.312]</td>\n",
       "      <td>{}</td>\n",
       "    </tr>\n",
       "  </tbody>\n",
       "</table>\n",
       "</div>"
      ],
      "text/plain": [
       "         file_list                 spatial_coordinates metadata\n",
       "0  [\"img_000.jpg\"]   [2,159.214,154.791,48.648,67.322]       {}\n",
       "1  [\"img_001.jpg\"]    [2,29.975,46.192,63.882,153.808]       {}\n",
       "2  [\"img_001.jpg\"]   [2,159.214,51.106,93.366,191.646]       {}\n",
       "3  [\"img_001.jpg\"]   [2,292.383,26.536,65.357,164.619]       {}\n",
       "4  [\"img_002.jpg\"]  [2,190.172,49.631,117.445,239.312]       {}"
      ]
     },
     "execution_count": 69,
     "metadata": {},
     "output_type": "execute_result"
    }
   ],
   "source": [
    "coordinates_df = pd.read_csv(\"Coordinates.csv\")\n",
    "coordinates_df.head()"
   ]
  },
  {
   "cell_type": "code",
   "execution_count": 70,
   "metadata": {},
   "outputs": [
    {
     "data": {
      "text/html": [
       "<div>\n",
       "<style scoped>\n",
       "    .dataframe tbody tr th:only-of-type {\n",
       "        vertical-align: middle;\n",
       "    }\n",
       "\n",
       "    .dataframe tbody tr th {\n",
       "        vertical-align: top;\n",
       "    }\n",
       "\n",
       "    .dataframe thead th {\n",
       "        text-align: right;\n",
       "    }\n",
       "</style>\n",
       "<table border=\"1\" class=\"dataframe\">\n",
       "  <thead>\n",
       "    <tr style=\"text-align: right;\">\n",
       "      <th></th>\n",
       "      <th>file_list</th>\n",
       "      <th>spatial_coordinates</th>\n",
       "      <th>metadata</th>\n",
       "    </tr>\n",
       "  </thead>\n",
       "  <tbody>\n",
       "    <tr>\n",
       "      <th>0</th>\n",
       "      <td>\"img_000.jpg\"</td>\n",
       "      <td>[2, 159.214, 154.791, 48.648, 67.322]</td>\n",
       "      <td>{}</td>\n",
       "    </tr>\n",
       "    <tr>\n",
       "      <th>1</th>\n",
       "      <td>\"img_001.jpg\"</td>\n",
       "      <td>[2, 29.975, 46.192, 63.882, 153.808]</td>\n",
       "      <td>{}</td>\n",
       "    </tr>\n",
       "    <tr>\n",
       "      <th>2</th>\n",
       "      <td>\"img_001.jpg\"</td>\n",
       "      <td>[2, 159.214, 51.106, 93.366, 191.646]</td>\n",
       "      <td>{}</td>\n",
       "    </tr>\n",
       "    <tr>\n",
       "      <th>3</th>\n",
       "      <td>\"img_001.jpg\"</td>\n",
       "      <td>[2, 292.383, 26.536, 65.357, 164.619]</td>\n",
       "      <td>{}</td>\n",
       "    </tr>\n",
       "    <tr>\n",
       "      <th>4</th>\n",
       "      <td>\"img_002.jpg\"</td>\n",
       "      <td>[2, 190.172, 49.631, 117.445, 239.312]</td>\n",
       "      <td>{}</td>\n",
       "    </tr>\n",
       "  </tbody>\n",
       "</table>\n",
       "</div>"
      ],
      "text/plain": [
       "       file_list                     spatial_coordinates metadata\n",
       "0  \"img_000.jpg\"   [2, 159.214, 154.791, 48.648, 67.322]       {}\n",
       "1  \"img_001.jpg\"    [2, 29.975, 46.192, 63.882, 153.808]       {}\n",
       "2  \"img_001.jpg\"   [2, 159.214, 51.106, 93.366, 191.646]       {}\n",
       "3  \"img_001.jpg\"   [2, 292.383, 26.536, 65.357, 164.619]       {}\n",
       "4  \"img_002.jpg\"  [2, 190.172, 49.631, 117.445, 239.312]       {}"
      ]
     },
     "execution_count": 70,
     "metadata": {},
     "output_type": "execute_result"
    }
   ],
   "source": [
    "coordinates_df['spatial_coordinates'] = coordinates_df.spatial_coordinates.str.strip(\"[]\").str.split(\",\")\n",
    "coordinates_df['file_list'] = coordinates_df.file_list.apply(lambda x: x.strip(\"[]\"))\n",
    "coordinates_df.head()"
   ]
  },
  {
   "cell_type": "code",
   "execution_count": 72,
   "metadata": {},
   "outputs": [
    {
     "data": {
      "text/html": [
       "<div>\n",
       "<style scoped>\n",
       "    .dataframe tbody tr th:only-of-type {\n",
       "        vertical-align: middle;\n",
       "    }\n",
       "\n",
       "    .dataframe tbody tr th {\n",
       "        vertical-align: top;\n",
       "    }\n",
       "\n",
       "    .dataframe thead th {\n",
       "        text-align: right;\n",
       "    }\n",
       "</style>\n",
       "<table border=\"1\" class=\"dataframe\">\n",
       "  <thead>\n",
       "    <tr style=\"text-align: right;\">\n",
       "      <th></th>\n",
       "      <th>file_list</th>\n",
       "      <th>metadata</th>\n",
       "      <th>x</th>\n",
       "      <th>y</th>\n",
       "      <th>w</th>\n",
       "      <th>h</th>\n",
       "    </tr>\n",
       "  </thead>\n",
       "  <tbody>\n",
       "    <tr>\n",
       "      <th>0</th>\n",
       "      <td>img_000.jpg</td>\n",
       "      <td>{}</td>\n",
       "      <td>159.214</td>\n",
       "      <td>154.791</td>\n",
       "      <td>48.648</td>\n",
       "      <td>67.322</td>\n",
       "    </tr>\n",
       "    <tr>\n",
       "      <th>1</th>\n",
       "      <td>img_001.jpg</td>\n",
       "      <td>{}</td>\n",
       "      <td>29.975</td>\n",
       "      <td>46.192</td>\n",
       "      <td>63.882</td>\n",
       "      <td>153.808</td>\n",
       "    </tr>\n",
       "    <tr>\n",
       "      <th>2</th>\n",
       "      <td>img_001.jpg</td>\n",
       "      <td>{}</td>\n",
       "      <td>159.214</td>\n",
       "      <td>51.106</td>\n",
       "      <td>93.366</td>\n",
       "      <td>191.646</td>\n",
       "    </tr>\n",
       "    <tr>\n",
       "      <th>3</th>\n",
       "      <td>img_001.jpg</td>\n",
       "      <td>{}</td>\n",
       "      <td>292.383</td>\n",
       "      <td>26.536</td>\n",
       "      <td>65.357</td>\n",
       "      <td>164.619</td>\n",
       "    </tr>\n",
       "    <tr>\n",
       "      <th>4</th>\n",
       "      <td>img_002.jpg</td>\n",
       "      <td>{}</td>\n",
       "      <td>190.172</td>\n",
       "      <td>49.631</td>\n",
       "      <td>117.445</td>\n",
       "      <td>239.312</td>\n",
       "    </tr>\n",
       "  </tbody>\n",
       "</table>\n",
       "</div>"
      ],
      "text/plain": [
       "     file_list metadata        x        y        w        h\n",
       "0  img_000.jpg       {}  159.214  154.791   48.648   67.322\n",
       "1  img_001.jpg       {}   29.975   46.192   63.882  153.808\n",
       "2  img_001.jpg       {}  159.214   51.106   93.366  191.646\n",
       "3  img_001.jpg       {}  292.383   26.536   65.357  164.619\n",
       "4  img_002.jpg       {}  190.172   49.631  117.445  239.312"
      ]
     },
     "execution_count": 72,
     "metadata": {},
     "output_type": "execute_result"
    }
   ],
   "source": [
    "coordinates_df[['id','x', 'y', 'w', 'h']] = pd.DataFrame(coordinates_df.spatial_coordinates.values.tolist(), \n",
    "                                                  index=coordinates_df.index)\n",
    "coordinates_df.drop(labels=['spatial_coordinates', 'id'], inplace=True, axis=1)\n",
    "coordinates_df['file_list'] = coordinates_df.file_list.apply(lambda x: x.strip('\"\"')) \n",
    "coordinates_df.head()"
   ]
  },
  {
   "cell_type": "code",
   "execution_count": 89,
   "metadata": {},
   "outputs": [
    {
     "data": {
      "text/plain": [
       "0            []\n",
       "1            []\n",
       "2            []\n",
       "3            []\n",
       "4            []\n",
       "5    [\"1\", \"8\"]\n",
       "6            []\n",
       "7            []\n",
       "8            []\n",
       "9    [\"1\", \"2\"]\n",
       "Name: metadata, dtype: object"
      ]
     },
     "execution_count": 89,
     "metadata": {},
     "output_type": "execute_result"
    }
   ],
   "source": [
    "metadata = coordinates_df.metadata.apply(lambda x: x.strip(\"{}\").split(\":\"))\n",
    "metadata[:10]"
   ]
  },
  {
   "cell_type": "code",
   "execution_count": 99,
   "metadata": {},
   "outputs": [
    {
     "data": {
      "text/html": [
       "<div>\n",
       "<style scoped>\n",
       "    .dataframe tbody tr th:only-of-type {\n",
       "        vertical-align: middle;\n",
       "    }\n",
       "\n",
       "    .dataframe tbody tr th {\n",
       "        vertical-align: top;\n",
       "    }\n",
       "\n",
       "    .dataframe thead th {\n",
       "        text-align: right;\n",
       "    }\n",
       "</style>\n",
       "<table border=\"1\" class=\"dataframe\">\n",
       "  <thead>\n",
       "    <tr style=\"text-align: right;\">\n",
       "      <th></th>\n",
       "      <th>file_list</th>\n",
       "      <th>x</th>\n",
       "      <th>y</th>\n",
       "      <th>w</th>\n",
       "      <th>h</th>\n",
       "      <th>face_dir</th>\n",
       "    </tr>\n",
       "  </thead>\n",
       "  <tbody>\n",
       "    <tr>\n",
       "      <th>0</th>\n",
       "      <td>img_000.jpg</td>\n",
       "      <td>159.214</td>\n",
       "      <td>154.791</td>\n",
       "      <td>48.648</td>\n",
       "      <td>67.322</td>\n",
       "      <td>0</td>\n",
       "    </tr>\n",
       "    <tr>\n",
       "      <th>1</th>\n",
       "      <td>img_001.jpg</td>\n",
       "      <td>29.975</td>\n",
       "      <td>46.192</td>\n",
       "      <td>63.882</td>\n",
       "      <td>153.808</td>\n",
       "      <td>0</td>\n",
       "    </tr>\n",
       "    <tr>\n",
       "      <th>2</th>\n",
       "      <td>img_001.jpg</td>\n",
       "      <td>159.214</td>\n",
       "      <td>51.106</td>\n",
       "      <td>93.366</td>\n",
       "      <td>191.646</td>\n",
       "      <td>0</td>\n",
       "    </tr>\n",
       "    <tr>\n",
       "      <th>3</th>\n",
       "      <td>img_001.jpg</td>\n",
       "      <td>292.383</td>\n",
       "      <td>26.536</td>\n",
       "      <td>65.357</td>\n",
       "      <td>164.619</td>\n",
       "      <td>0</td>\n",
       "    </tr>\n",
       "    <tr>\n",
       "      <th>4</th>\n",
       "      <td>img_002.jpg</td>\n",
       "      <td>190.172</td>\n",
       "      <td>49.631</td>\n",
       "      <td>117.445</td>\n",
       "      <td>239.312</td>\n",
       "      <td>0</td>\n",
       "    </tr>\n",
       "  </tbody>\n",
       "</table>\n",
       "</div>"
      ],
      "text/plain": [
       "     file_list        x        y        w        h face_dir\n",
       "0  img_000.jpg  159.214  154.791   48.648   67.322        0\n",
       "1  img_001.jpg   29.975   46.192   63.882  153.808        0\n",
       "2  img_001.jpg  159.214   51.106   93.366  191.646        0\n",
       "3  img_001.jpg  292.383   26.536   65.357  164.619        0\n",
       "4  img_002.jpg  190.172   49.631  117.445  239.312        0"
      ]
     },
     "execution_count": 99,
     "metadata": {},
     "output_type": "execute_result"
    }
   ],
   "source": [
    "coordinates_df['face_dir'] = pd.Series(metadata, index=coordinates_df.index)\n",
    "coordinates_df.drop(labels=['metadata'], axis=1, inplace=True)\n",
    "coordinates_df.head()"
   ]
  },
  {
   "cell_type": "markdown",
   "metadata": {},
   "source": [
    "Face Direction Mapping:\n",
    "- 0:\"Front\"\n",
    "- 1:\"Left\"\n",
    "- 2:\"Right\"\n",
    "- 3:\"Up\"\n",
    "- 4:\"Down\"\n",
    "- 5:\"UpLeft\"\n",
    "- 6:\"UpRight\"\n",
    "- 7:\"DownLeft\"\n",
    "- 8:\"DownRight\"\t\n",
    "- 9:\"Top\"\n",
    "- 10:\"Back\""
   ]
  },
  {
   "cell_type": "code",
   "execution_count": 102,
   "metadata": {},
   "outputs": [
    {
     "data": {
      "text/plain": [
       "array([[199.30168421, 175.249     ],\n",
       "       [107.45558621, 145.70868966],\n",
       "       [156.93536364, 263.16745455],\n",
       "       [ 47.08225   ,  51.4435625 ]])"
      ]
     },
     "execution_count": 102,
     "metadata": {},
     "output_type": "execute_result"
    }
   ],
   "source": [
    "X = np.asarray(coordinates_df[['w', 'h']])\n",
    "kmeans = KMeans(n_clusters=4, random_state=42).fit(X)\n",
    "kmeans.cluster_centers_"
   ]
  },
  {
   "cell_type": "code",
   "execution_count": null,
   "metadata": {},
   "outputs": [],
   "source": []
  }
 ],
 "metadata": {
  "kernelspec": {
   "display_name": "Python 3",
   "language": "python",
   "name": "python3"
  },
  "language_info": {
   "codemirror_mode": {
    "name": "ipython",
    "version": 3
   },
   "file_extension": ".py",
   "mimetype": "text/x-python",
   "name": "python",
   "nbconvert_exporter": "python",
   "pygments_lexer": "ipython3",
   "version": "3.6.8"
  }
 },
 "nbformat": 4,
 "nbformat_minor": 2
}
