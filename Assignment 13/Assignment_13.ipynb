{
  "nbformat": 4,
  "nbformat_minor": 0,
  "metadata": {
    "colab": {
      "name": "Assignment 13.ipynb",
      "provenance": [],
      "collapsed_sections": []
    },
    "kernelspec": {
      "name": "python3",
      "display_name": "Python 3"
    },
    "accelerator": "GPU"
  },
  "cells": [
    {
      "cell_type": "code",
      "metadata": {
        "id": "8D35vSs2M-Qw",
        "colab_type": "code",
        "outputId": "f9e1290d-8ba7-4123-88e4-a00ac711e5f4",
        "colab": {
          "base_uri": "https://localhost:8080/",
          "height": 124
        }
      },
      "source": [
        "from google.colab import drive\n",
        "drive.mount(\"/content/gdrive\")"
      ],
      "execution_count": 1,
      "outputs": [
        {
          "output_type": "stream",
          "text": [
            "Go to this URL in a browser: https://accounts.google.com/o/oauth2/auth?client_id=947318989803-6bn6qk8qdgf4n4g3pfee6491hc0brc4i.apps.googleusercontent.com&redirect_uri=urn%3aietf%3awg%3aoauth%3a2.0%3aoob&response_type=code&scope=email%20https%3a%2f%2fwww.googleapis.com%2fauth%2fdocs.test%20https%3a%2f%2fwww.googleapis.com%2fauth%2fdrive%20https%3a%2f%2fwww.googleapis.com%2fauth%2fdrive.photos.readonly%20https%3a%2f%2fwww.googleapis.com%2fauth%2fpeopleapi.readonly\n",
            "\n",
            "Enter your authorization code:\n",
            "··········\n",
            "Mounted at /content/gdrive\n"
          ],
          "name": "stdout"
        }
      ]
    },
    {
      "cell_type": "code",
      "metadata": {
        "id": "_w0YZt09M7-n",
        "colab_type": "code",
        "colab": {}
      },
      "source": [
        "import os\n",
        "os.chdir(\"/content/gdrive/My Drive/Colab Notebooks/EVA\")"
      ],
      "execution_count": 0,
      "outputs": []
    },
    {
      "cell_type": "code",
      "metadata": {
        "id": "nSMAyBhzHaZm",
        "colab_type": "code",
        "colab": {}
      },
      "source": [
        "%matplotlib inline\n",
        "import tensorflow as tf\n",
        "import numpy as np\n",
        "import matplotlib.pyplot as plt\n",
        "from keras.optimizers import SGD\n",
        "from keras.callbacks import ModelCheckpoint, EarlyStopping\n",
        "from keras.preprocessing.image import ImageDataGenerator\n",
        "from keras.utils import np_utils    \n",
        "\n",
        "from deep_vision.resnet import ResNet\n",
        "from deep_vision.cutout import get_random_eraser\n",
        "from deep_vision.lr_finder import LR_Finder \n",
        "from deep_vision.clr_callback import CyclicLR"
      ],
      "execution_count": 0,
      "outputs": []
    },
    {
      "cell_type": "markdown",
      "metadata": {
        "id": "1hCCNCPkizKd",
        "colab_type": "text"
      },
      "source": [
        "Restrictions:\n",
        "- Your model must look like Conv->B1->B2->B3->B4 and not individually called Convs. \n",
        "- Batch Size 128\n",
        "- Normalization values of: (0.4914, 0.4822, 0.4465), (0.2023, 0.1994, 0.2010)\n",
        "- Random Crop of 32 with padding of 4px Horizontal Flip (0.5)\n",
        "- Optimizer: SGD, Weight-Decay: 5e-4\n",
        "- NOT-OneCycleLR\n",
        "- Save model (to drive) after every 50 epochs or best model till now\n",
        "- Describe your blocks, and the stride strategy you have picked\n",
        "- Train for 300 Epochs\n",
        "- Assignment Target Accuracy is 90%, so exit gracefully if you reach 90% (you can target more, it can go till ~93%)"
      ]
    },
    {
      "cell_type": "code",
      "metadata": {
        "id": "6OwxXNiaO6dm",
        "colab_type": "code",
        "colab": {}
      },
      "source": [
        "BATCH_SIZE = 128 #@param {type:\"integer\"}\n",
        "MOMENTUM = 0.9 #@param {type:\"number\"}\n",
        "WEIGHT_DECAY = 5e-4 #@param {type:\"number\"}\n",
        "EPOCHS = 300 #@param {type:\"integer\"}"
      ],
      "execution_count": 0,
      "outputs": []
    },
    {
      "cell_type": "code",
      "metadata": {
        "id": "zELf8wAiPKLP",
        "colab_type": "code",
        "outputId": "cfcd536d-0a2e-4fea-d6c2-b8891a403df7",
        "colab": {
          "base_uri": "https://localhost:8080/",
          "height": 86
        }
      },
      "source": [
        "(x_train, y_train), (x_test, y_test) = tf.keras.datasets.cifar10.load_data()\n",
        "len_train, len_test = len(x_train), len(x_test)\n",
        "y_train = y_train.astype('int64').reshape(len_train)\n",
        "y_test = y_test.astype('int64').reshape(len_test)\n",
        "\n",
        "train_mean = np.mean(x_train, axis=(0,1,2))\n",
        "train_std = np.std(x_train, axis=(0,1,2))\n",
        "\n",
        "given_mean, given_std = (0.4914, 0.4822, 0.4465), (0.2023, 0.1994, 0.2010)\n",
        "\n",
        "print(\"Calc mean:\", train_mean)\n",
        "print(\"Calc std:\", train_std) "
      ],
      "execution_count": 5,
      "outputs": [
        {
          "output_type": "stream",
          "text": [
            "Downloading data from https://www.cs.toronto.edu/~kriz/cifar-10-python.tar.gz\n",
            "170500096/170498071 [==============================] - 6s 0us/step\n",
            "Calc mean: [125.30691805 122.95039414 113.86538318]\n",
            "Calc std: [62.99321928 62.08870764 66.70489964]\n"
          ],
          "name": "stdout"
        }
      ]
    },
    {
      "cell_type": "code",
      "metadata": {
        "id": "RtEMSE86O8lV",
        "colab_type": "code",
        "colab": {}
      },
      "source": [
        "# normalize and padding the training data\n",
        "normalize = lambda x: ((x - given_mean) / given_std).astype('float32') # todo: check here\n",
        "pad4 = lambda x: np.pad(x, [(0, 0), (4, 4), (4, 4), (0, 0)], mode='reflect')\n",
        "\n",
        "x_train_norm = normalize(x_train)\n",
        "x_train = normalize(pad4(x_train))\n",
        "x_test = normalize(x_test)"
      ],
      "execution_count": 0,
      "outputs": []
    },
    {
      "cell_type": "code",
      "metadata": {
        "id": "G1qjRG8JSG0r",
        "colab_type": "code",
        "colab": {}
      },
      "source": [
        "norm_x_train_mean = np.mean(x_train_norm, axis=(0,1,2))"
      ],
      "execution_count": 0,
      "outputs": []
    },
    {
      "cell_type": "code",
      "metadata": {
        "id": "4fcG16X6RYtx",
        "colab_type": "code",
        "colab": {}
      },
      "source": [
        "# Convert 1-dimensional class arrays to 10-dimensional class matrices\n",
        "Y_train = np_utils.to_categorical(y_train, 10)\n",
        "Y_test = np_utils.to_categorical(y_test, 10)"
      ],
      "execution_count": 0,
      "outputs": []
    },
    {
      "cell_type": "code",
      "metadata": {
        "id": "uXgcbUUXMycn",
        "colab_type": "code",
        "colab": {}
      },
      "source": [
        "'''\n",
        "As we training CIFAR-10, we will be using basic blocks where we are using \n",
        "fully pre-activated BN-RELU-CONV(3x3) as  per ResNet V2.  \n",
        "Resnet.py contains the entire code for building the model\n",
        "''' \n",
        "def make_model():\n",
        "    return ResNet(input_shape=(32,32,3), classes=10, block='basic', residual_unit='v2',\n",
        "                  repetitions=[2,2,2,2], initial_filters=64, activation='softmax', include_top=True,\n",
        "                  input_tensor=None, dropout=None, transition_dilation_rate=(1, 1),\n",
        "                  initial_strides=(1, 1), initial_kernel_size=(3, 3), initial_pooling=None,\n",
        "                  final_pooling='avg', top='classification')"
      ],
      "execution_count": 0,
      "outputs": []
    },
    {
      "cell_type": "markdown",
      "metadata": {
        "id": "JMHcPHq9ZU_F",
        "colab_type": "text"
      },
      "source": [
        "#### Finding the min and max learning rates"
      ]
    },
    {
      "cell_type": "code",
      "metadata": {
        "id": "nk9NKddBO0XX",
        "colab_type": "code",
        "outputId": "343bb6d9-8608-4660-8cdd-fc75258cdfa3",
        "colab": {
          "base_uri": "https://localhost:8080/",
          "height": 555
        }
      },
      "source": [
        "model = make_model()\n",
        "sgd = SGD(1e-4, momentum=MOMENTUM, nesterov=True, decay=WEIGHT_DECAY)\n",
        "\n",
        "model.compile(optimizer=sgd, loss='categorical_crossentropy', metrics=['accuracy'])"
      ],
      "execution_count": 12,
      "outputs": [
        {
          "output_type": "stream",
          "text": [
            "WARNING:tensorflow:From /usr/local/lib/python3.6/dist-packages/keras/backend/tensorflow_backend.py:66: The name tf.get_default_graph is deprecated. Please use tf.compat.v1.get_default_graph instead.\n",
            "\n",
            "WARNING:tensorflow:From /usr/local/lib/python3.6/dist-packages/keras/backend/tensorflow_backend.py:541: The name tf.placeholder is deprecated. Please use tf.compat.v1.placeholder instead.\n",
            "\n",
            "WARNING:tensorflow:From /usr/local/lib/python3.6/dist-packages/keras/backend/tensorflow_backend.py:4479: The name tf.truncated_normal is deprecated. Please use tf.random.truncated_normal instead.\n",
            "\n",
            "WARNING:tensorflow:From /usr/local/lib/python3.6/dist-packages/keras/backend/tensorflow_backend.py:190: The name tf.get_default_session is deprecated. Please use tf.compat.v1.get_default_session instead.\n",
            "\n",
            "WARNING:tensorflow:From /usr/local/lib/python3.6/dist-packages/keras/backend/tensorflow_backend.py:197: The name tf.ConfigProto is deprecated. Please use tf.compat.v1.ConfigProto instead.\n",
            "\n",
            "WARNING:tensorflow:From /usr/local/lib/python3.6/dist-packages/keras/backend/tensorflow_backend.py:203: The name tf.Session is deprecated. Please use tf.compat.v1.Session instead.\n",
            "\n",
            "WARNING:tensorflow:From /usr/local/lib/python3.6/dist-packages/keras/backend/tensorflow_backend.py:207: The name tf.global_variables is deprecated. Please use tf.compat.v1.global_variables instead.\n",
            "\n",
            "WARNING:tensorflow:From /usr/local/lib/python3.6/dist-packages/keras/backend/tensorflow_backend.py:216: The name tf.is_variable_initialized is deprecated. Please use tf.compat.v1.is_variable_initialized instead.\n",
            "\n",
            "WARNING:tensorflow:From /usr/local/lib/python3.6/dist-packages/keras/backend/tensorflow_backend.py:223: The name tf.variables_initializer is deprecated. Please use tf.compat.v1.variables_initializer instead.\n",
            "\n",
            "WARNING:tensorflow:From /usr/local/lib/python3.6/dist-packages/keras/backend/tensorflow_backend.py:2041: The name tf.nn.fused_batch_norm is deprecated. Please use tf.compat.v1.nn.fused_batch_norm instead.\n",
            "\n",
            "WARNING:tensorflow:From /usr/local/lib/python3.6/dist-packages/keras/backend/tensorflow_backend.py:148: The name tf.placeholder_with_default is deprecated. Please use tf.compat.v1.placeholder_with_default instead.\n",
            "\n",
            "reshaping via a convolution...\n",
            "reshaping via a convolution...\n",
            "reshaping via a convolution...\n",
            "reshaping via a convolution...\n",
            "WARNING:tensorflow:From /usr/local/lib/python3.6/dist-packages/keras/optimizers.py:793: The name tf.train.Optimizer is deprecated. Please use tf.compat.v1.train.Optimizer instead.\n",
            "\n",
            "WARNING:tensorflow:From /usr/local/lib/python3.6/dist-packages/keras/backend/tensorflow_backend.py:3576: The name tf.log is deprecated. Please use tf.math.log instead.\n",
            "\n"
          ],
          "name": "stdout"
        }
      ]
    },
    {
      "cell_type": "code",
      "metadata": {
        "id": "1EFXp1p_Ku_0",
        "colab_type": "code",
        "outputId": "9b397159-4fbf-4efd-8d01-c2bf1ad0825f",
        "colab": {
          "base_uri": "https://localhost:8080/",
          "height": 210
        }
      },
      "source": [
        "lr_finder = LR_Finder(start_lr=1e-7, end_lr=10, step_size=np.ceil(x_train_norm.shape[0]/BATCH_SIZE))\n",
        "model.fit(x_train_norm, Y_train, callbacks=[lr_finder], batch_size=BATCH_SIZE)"
      ],
      "execution_count": 13,
      "outputs": [
        {
          "output_type": "stream",
          "text": [
            "WARNING:tensorflow:From /usr/local/lib/python3.6/dist-packages/tensorflow_core/python/ops/math_grad.py:1424: where (from tensorflow.python.ops.array_ops) is deprecated and will be removed in a future version.\n",
            "Instructions for updating:\n",
            "Use tf.where in 2.0, which has the same broadcast rule as np.where\n",
            "WARNING:tensorflow:From /usr/local/lib/python3.6/dist-packages/keras/backend/tensorflow_backend.py:1033: The name tf.assign_add is deprecated. Please use tf.compat.v1.assign_add instead.\n",
            "\n",
            "WARNING:tensorflow:From /usr/local/lib/python3.6/dist-packages/keras/backend/tensorflow_backend.py:1020: The name tf.assign is deprecated. Please use tf.compat.v1.assign instead.\n",
            "\n",
            "Epoch 1/1\n",
            "50000/50000 [==============================] - 32s 632us/step - loss: 3.2417 - acc: 0.1997\n"
          ],
          "name": "stdout"
        },
        {
          "output_type": "execute_result",
          "data": {
            "text/plain": [
              "<keras.callbacks.History at 0x7f92ef2c6cf8>"
            ]
          },
          "metadata": {
            "tags": []
          },
          "execution_count": 13
        }
      ]
    },
    {
      "cell_type": "code",
      "metadata": {
        "id": "7jMP81NNSpdC",
        "colab_type": "code",
        "outputId": "4d813e0c-a7b2-4820-e8fe-31dcef574d52",
        "colab": {
          "base_uri": "https://localhost:8080/",
          "height": 279
        }
      },
      "source": [
        "lr_finder.plot_lr()"
      ],
      "execution_count": 14,
      "outputs": [
        {
          "output_type": "display_data",
          "data": {
            "image/png": "[encoded data removed]",
            "text/plain": [
              "<Figure size 432x288 with 1 Axes>"
            ]
          },
          "metadata": {
            "tags": []
          }
        }
      ]
    },
    {
      "cell_type": "code",
      "metadata": {
        "id": "nc2uEShQTDqz",
        "colab_type": "code",
        "outputId": "2eff84d3-aa34-40a6-8feb-defd06c6f264",
        "colab": {
          "base_uri": "https://localhost:8080/",
          "height": 283
        }
      },
      "source": [
        "lr_finder.plot_lr_loss()"
      ],
      "execution_count": 15,
      "outputs": [
        {
          "output_type": "display_data",
          "data": {
            "image/png": "[encoded data removed]",
            "text/plain": [
              "<Figure size 432x288 with 1 Axes>"
            ]
          },
          "metadata": {
            "tags": []
          }
        }
      ]
    },
    {
      "cell_type": "code",
      "metadata": {
        "id": "V5Ya7UMTTLrm",
        "colab_type": "code",
        "outputId": "fbe57c3e-76a3-4430-f7a7-9bb722dc3901",
        "colab": {
          "base_uri": "https://localhost:8080/",
          "height": 283
        }
      },
      "source": [
        "lr_finder.plot_smoothed_lr_loss()"
      ],
      "execution_count": 16,
      "outputs": [
        {
          "output_type": "display_data",
          "data": {
            "image/png": "[encoded data removed]",
            "text/plain": [
              "<Figure size 432x288 with 1 Axes>"
            ]
          },
          "metadata": {
            "tags": []
          }
        }
      ]
    },
    {
      "cell_type": "markdown",
      "metadata": {
        "id": "sQcx8KjyTQ9q",
        "colab_type": "text"
      },
      "source": [
        "So, from the above plot, we can see that the min and max bounds of learning rate which are 0.0001 and 0.1 respectively"
      ]
    },
    {
      "cell_type": "code",
      "metadata": {
        "id": "GJW4IFrYQBRH",
        "colab_type": "code",
        "colab": {}
      },
      "source": [
        "# for random cropping\n",
        "def random_crop(img, random_crop_size):\n",
        "    # Note: image_data_format is 'channel_last'\n",
        "    assert img.shape[2] == 3\n",
        "    height, width = img.shape[0], img.shape[1]\n",
        "    dy, dx = random_crop_size\n",
        "    x = np.random.randint(0, width - dx + 1)\n",
        "    y = np.random.randint(0, height - dy + 1)\n",
        "    return img[y:(y+dy), x:(x+dx), :]\n",
        "\n",
        "\n",
        "def crop_generator(batches, crop_length):\n",
        "    \"\"\"Take as input a Keras ImageGen (Iterator) and generate random\n",
        "    crops from the image batches generated by the original iterator.\n",
        "    \"\"\"\n",
        "    while True:\n",
        "        batch_x, batch_y = next(batches)\n",
        "        batch_crops = np.zeros((batch_x.shape[0], crop_length, crop_length, 3))\n",
        "        for i in range(batch_x.shape[0]):\n",
        "            batch_crops[i] = random_crop(batch_x[i], (crop_length, crop_length))\n",
        "        yield (batch_crops, batch_y)"
      ],
      "execution_count": 0,
      "outputs": []
    },
    {
      "cell_type": "code",
      "metadata": {
        "id": "MTUVo3YHT3H0",
        "colab_type": "code",
        "colab": {}
      },
      "source": [
        "# define the minimum learning rate, maximum learning rate, batch size,\n",
        "# step size, CLR method, and number of epochs\n",
        "MIN_LR = 0.0001\n",
        "MAX_LR = 0.1\n",
        "STEP_SIZE = 8\n",
        "CLR_METHOD = \"triangular2\"\n",
        "NUM_EPOCHS = 96"
      ],
      "execution_count": 0,
      "outputs": []
    },
    {
      "cell_type": "markdown",
      "metadata": {
        "id": "t9n6NAcwZndN",
        "colab_type": "text"
      },
      "source": [
        "### Traininf the mode with cyclic LR\n",
        "\n",
        "Code for cyclic LR can be found in clr_callback.py"
      ]
    },
    {
      "cell_type": "code",
      "metadata": {
        "id": "KQwuLFaQT3Fv",
        "colab_type": "code",
        "colab": {
          "base_uri": "https://localhost:8080/",
          "height": 86
        },
        "outputId": "b381a169-6191-4fb9-8b6a-2701f652064a"
      },
      "source": [
        "model = make_model()\n",
        "sgd = SGD(MIN_LR, momentum=MOMENTUM, nesterov=True, decay=WEIGHT_DECAY)\n",
        "model.compile(optimizer=sgd, loss='categorical_crossentropy', metrics=['accuracy'])\n",
        "\n",
        "clr = CyclicLR(mode=CLR_METHOD,\n",
        "               base_lr=MIN_LR,\n",
        "               max_lr=MAX_LR,\n",
        "               step_size= STEP_SIZE * (x_train.shape[0] // BATCH_SIZE))\n",
        "\n",
        "checkpoint = ModelCheckpoint(filepath=\"best_model.h5\", \n",
        "                             save_best_only=True,\n",
        "                             period=50,\n",
        "                             monitor=\"val_loss\",\n",
        "                             verbose=1)\n",
        "\n",
        "earlystop = EarlyStopping(monitor='val_accuracy', min_delta=0, patience=5, verbose=0, mode='auto', baseline=91.0, restore_best_weights=True)\n"
      ],
      "execution_count": 29,
      "outputs": [
        {
          "output_type": "stream",
          "text": [
            "reshaping via a convolution...\n",
            "reshaping via a convolution...\n",
            "reshaping via a convolution...\n",
            "reshaping via a convolution...\n"
          ],
          "name": "stdout"
        }
      ]
    },
    {
      "cell_type": "code",
      "metadata": {
        "id": "xdA1Qd8mLPr5",
        "colab_type": "code",
        "colab": {
          "base_uri": "https://localhost:8080/",
          "height": 1000
        },
        "outputId": "4db5f268-fd61-4673-e1f7-07428045552f"
      },
      "source": [
        "# random_crop = lambda x, y: (tf.image.random_flip_left_right(tf.random_crop(x, [32, 32, 3])), y)\n",
        "\n",
        "datagen = ImageDataGenerator(preprocessing_function=get_random_eraser(pixel_value=norm_x_train_mean), \n",
        "                             horizontal_flip=True)\n",
        "\n",
        "train_batches = datagen.flow(x_train, Y_train, batch_size=BATCH_SIZE)\n",
        "train_cropped_batches = crop_generator(train_batches, 32)\n",
        "\n",
        "model.fit_generator(train_cropped_batches,\n",
        "                    steps_per_epoch=x_train.shape[0]//BATCH_SIZE, \n",
        "                    epochs=EPOCHS, \n",
        "                    validation_data=(x_test, Y_test), \n",
        "                    callbacks=[clr, checkpoint, earlystop],\n",
        "                    verbose=1)"
      ],
      "execution_count": 30,
      "outputs": [
        {
          "output_type": "stream",
          "text": [
            "Epoch 1/300\n",
            "  4/390 [..............................] - ETA: 5:03 - loss: 3.4386 - acc: 0.1094"
          ],
          "name": "stdout"
        },
        {
          "output_type": "stream",
          "text": [
            "/usr/local/lib/python3.6/dist-packages/keras/callbacks.py:95: RuntimeWarning: Method (on_train_batch_end) is slow compared to the batch update (0.190696). Check your callbacks.\n",
            "  % (hook_name, delta_t_median), RuntimeWarning)\n"
          ],
          "name": "stderr"
        },
        {
          "output_type": "stream",
          "text": [
            "390/390 [==============================] - 31s 80ms/step - loss: 2.7355 - acc: 0.3528 - val_loss: 3.0203 - val_acc: 0.3626\n",
            "Epoch 2/300\n",
            "  3/390 [..............................] - ETA: 23s - loss: 2.3941 - acc: 0.4792"
          ],
          "name": "stdout"
        },
        {
          "output_type": "stream",
          "text": [
            "/usr/local/lib/python3.6/dist-packages/keras/callbacks.py:842: RuntimeWarning: Early stopping conditioned on metric `val_accuracy` which is not available. Available metrics are: val_loss,val_acc,loss,acc\n",
            "  (self.monitor, ','.join(list(logs.keys()))), RuntimeWarning\n"
          ],
          "name": "stderr"
        },
        {
          "output_type": "stream",
          "text": [
            "390/390 [==============================] - 28s 72ms/step - loss: 2.3028 - acc: 0.5114 - val_loss: 3.0894 - val_acc: 0.3733\n",
            "Epoch 3/300\n",
            "390/390 [==============================] - 28s 72ms/step - loss: 2.0746 - acc: 0.5907 - val_loss: 2.1745 - val_acc: 0.5778\n",
            "Epoch 4/300\n",
            "390/390 [==============================] - 28s 72ms/step - loss: 1.9231 - acc: 0.6413 - val_loss: 2.1147 - val_acc: 0.5909\n",
            "Epoch 5/300\n",
            "390/390 [==============================] - 28s 71ms/step - loss: 1.7879 - acc: 0.6787 - val_loss: 2.2488 - val_acc: 0.5461\n",
            "Epoch 6/300\n",
            "390/390 [==============================] - 28s 71ms/step - loss: 1.6813 - acc: 0.7086 - val_loss: 1.6133 - val_acc: 0.7353\n",
            "Epoch 7/300\n",
            "390/390 [==============================] - 28s 71ms/step - loss: 1.5914 - acc: 0.7313 - val_loss: 2.4917 - val_acc: 0.5268\n",
            "Epoch 8/300\n",
            "390/390 [==============================] - 28s 71ms/step - loss: 1.5075 - acc: 0.7481 - val_loss: 2.7830 - val_acc: 0.4751\n",
            "Epoch 9/300\n",
            "390/390 [==============================] - 28s 72ms/step - loss: 1.4194 - acc: 0.7693 - val_loss: 1.4178 - val_acc: 0.7742\n",
            "Epoch 10/300\n",
            "390/390 [==============================] - 28s 71ms/step - loss: 1.3300 - acc: 0.7920 - val_loss: 1.3008 - val_acc: 0.8027\n",
            "Epoch 11/300\n",
            "390/390 [==============================] - 28s 71ms/step - loss: 1.2587 - acc: 0.8097 - val_loss: 1.1809 - val_acc: 0.8289\n",
            "Epoch 12/300\n",
            "390/390 [==============================] - 28s 72ms/step - loss: 1.1867 - acc: 0.8265 - val_loss: 1.2283 - val_acc: 0.8165\n",
            "Epoch 13/300\n",
            "390/390 [==============================] - 28s 71ms/step - loss: 1.1404 - acc: 0.8373 - val_loss: 1.1093 - val_acc: 0.8534\n",
            "Epoch 14/300\n",
            "390/390 [==============================] - 28s 71ms/step - loss: 1.0918 - acc: 0.8525 - val_loss: 1.0660 - val_acc: 0.8626\n",
            "Epoch 15/300\n",
            "390/390 [==============================] - 28s 71ms/step - loss: 1.0553 - acc: 0.8620 - val_loss: 1.0326 - val_acc: 0.8767\n",
            "Epoch 16/300\n",
            "390/390 [==============================] - 28s 71ms/step - loss: 1.0325 - acc: 0.8715 - val_loss: 1.0150 - val_acc: 0.8824\n",
            "Epoch 17/300\n",
            "390/390 [==============================] - 28s 71ms/step - loss: 1.0221 - acc: 0.8744 - val_loss: 1.0208 - val_acc: 0.8781\n",
            "Epoch 18/300\n",
            "390/390 [==============================] - 28s 71ms/step - loss: 1.0257 - acc: 0.8726 - val_loss: 1.0416 - val_acc: 0.8691\n",
            "Epoch 19/300\n",
            "390/390 [==============================] - 28s 71ms/step - loss: 1.0175 - acc: 0.8737 - val_loss: 1.0282 - val_acc: 0.8738\n",
            "Epoch 20/300\n",
            "390/390 [==============================] - 28s 71ms/step - loss: 1.0159 - acc: 0.8724 - val_loss: 1.0600 - val_acc: 0.8668\n",
            "Epoch 21/300\n",
            "390/390 [==============================] - 28s 71ms/step - loss: 1.0159 - acc: 0.8713 - val_loss: 1.0482 - val_acc: 0.8652\n",
            "Epoch 22/300\n",
            "390/390 [==============================] - 28s 71ms/step - loss: 1.0049 - acc: 0.8748 - val_loss: 1.0439 - val_acc: 0.8664\n",
            "Epoch 23/300\n",
            "390/390 [==============================] - 28s 71ms/step - loss: 1.0008 - acc: 0.8730 - val_loss: 1.0522 - val_acc: 0.8602\n",
            "Epoch 24/300\n",
            "390/390 [==============================] - 28s 71ms/step - loss: 0.9969 - acc: 0.8710 - val_loss: 1.1922 - val_acc: 0.8230\n",
            "Epoch 25/300\n",
            "390/390 [==============================] - 28s 71ms/step - loss: 0.9795 - acc: 0.8734 - val_loss: 1.0095 - val_acc: 0.8719\n",
            "Epoch 26/300\n",
            "390/390 [==============================] - 28s 71ms/step - loss: 0.9614 - acc: 0.8790 - val_loss: 1.0384 - val_acc: 0.8606\n",
            "Epoch 27/300\n",
            "390/390 [==============================] - 28s 71ms/step - loss: 0.9391 - acc: 0.8859 - val_loss: 1.0202 - val_acc: 0.8673\n",
            "Epoch 28/300\n",
            "390/390 [==============================] - 28s 71ms/step - loss: 0.9233 - acc: 0.8896 - val_loss: 0.9665 - val_acc: 0.8833\n",
            "Epoch 29/300\n",
            "390/390 [==============================] - 28s 71ms/step - loss: 0.9056 - acc: 0.8962 - val_loss: 0.9539 - val_acc: 0.8853\n",
            "Epoch 30/300\n",
            "390/390 [==============================] - 28s 71ms/step - loss: 0.8838 - acc: 0.9026 - val_loss: 0.9357 - val_acc: 0.8948\n",
            "Epoch 31/300\n",
            "390/390 [==============================] - 28s 71ms/step - loss: 0.8746 - acc: 0.9052 - val_loss: 0.9273 - val_acc: 0.8952\n",
            "Epoch 32/300\n",
            "390/390 [==============================] - 28s 71ms/step - loss: 0.8689 - acc: 0.9071 - val_loss: 0.9266 - val_acc: 0.8949\n",
            "Epoch 33/300\n",
            "390/390 [==============================] - 28s 71ms/step - loss: 0.8669 - acc: 0.9074 - val_loss: 0.9285 - val_acc: 0.8945\n",
            "Epoch 34/300\n",
            "390/390 [==============================] - 28s 71ms/step - loss: 0.8635 - acc: 0.9081 - val_loss: 0.9270 - val_acc: 0.8957\n",
            "Epoch 35/300\n",
            "390/390 [==============================] - 28s 71ms/step - loss: 0.8620 - acc: 0.9074 - val_loss: 0.9269 - val_acc: 0.8938\n",
            "Epoch 36/300\n",
            "390/390 [==============================] - 28s 71ms/step - loss: 0.8662 - acc: 0.9068 - val_loss: 0.9339 - val_acc: 0.8921\n",
            "Epoch 37/300\n",
            "390/390 [==============================] - 28s 71ms/step - loss: 0.8640 - acc: 0.9052 - val_loss: 0.9472 - val_acc: 0.8866\n",
            "Epoch 38/300\n",
            "390/390 [==============================] - 28s 71ms/step - loss: 0.8644 - acc: 0.9060 - val_loss: 0.9382 - val_acc: 0.8913\n",
            "Epoch 39/300\n",
            "390/390 [==============================] - 28s 71ms/step - loss: 0.8573 - acc: 0.9077 - val_loss: 0.9368 - val_acc: 0.8912\n",
            "Epoch 40/300\n",
            "390/390 [==============================] - 28s 71ms/step - loss: 0.8578 - acc: 0.9075 - val_loss: 0.9318 - val_acc: 0.8921\n",
            "Epoch 41/300\n",
            "390/390 [==============================] - 28s 72ms/step - loss: 0.8547 - acc: 0.9087 - val_loss: 0.9270 - val_acc: 0.8928\n",
            "Epoch 42/300\n",
            "390/390 [==============================] - 28s 72ms/step - loss: 0.8454 - acc: 0.9108 - val_loss: 0.9285 - val_acc: 0.8922\n",
            "Epoch 43/300\n",
            "390/390 [==============================] - 28s 71ms/step - loss: 0.8346 - acc: 0.9120 - val_loss: 0.9271 - val_acc: 0.8900\n",
            "Epoch 44/300\n",
            "390/390 [==============================] - 29s 74ms/step - loss: 0.8303 - acc: 0.9145 - val_loss: 0.9143 - val_acc: 0.8969\n",
            "Epoch 45/300\n",
            "390/390 [==============================] - 28s 71ms/step - loss: 0.8250 - acc: 0.9152 - val_loss: 0.9064 - val_acc: 0.8976\n",
            "Epoch 46/300\n",
            "390/390 [==============================] - 28s 72ms/step - loss: 0.8170 - acc: 0.9181 - val_loss: 0.9048 - val_acc: 0.8982\n",
            "Epoch 47/300\n",
            "390/390 [==============================] - 28s 72ms/step - loss: 0.8155 - acc: 0.9196 - val_loss: 0.9028 - val_acc: 0.8967\n",
            "Epoch 48/300\n",
            "390/390 [==============================] - 28s 72ms/step - loss: 0.8060 - acc: 0.9220 - val_loss: 0.9000 - val_acc: 0.8980\n",
            "Epoch 49/300\n",
            "390/390 [==============================] - 28s 71ms/step - loss: 0.8090 - acc: 0.9211 - val_loss: 0.9007 - val_acc: 0.8988\n",
            "Epoch 50/300\n",
            "390/390 [==============================] - 28s 71ms/step - loss: 0.8040 - acc: 0.9222 - val_loss: 0.9010 - val_acc: 0.8990\n",
            "\n",
            "Epoch 00050: val_loss improved from inf to 0.90096, saving model to best_model.h5\n",
            "Epoch 51/300\n",
            "390/390 [==============================] - 28s 72ms/step - loss: 0.8043 - acc: 0.9216 - val_loss: 0.9087 - val_acc: 0.8965\n",
            "Epoch 52/300\n",
            "390/390 [==============================] - 28s 72ms/step - loss: 0.8035 - acc: 0.9226 - val_loss: 0.9041 - val_acc: 0.8991\n",
            "Epoch 53/300\n",
            "390/390 [==============================] - 28s 71ms/step - loss: 0.8066 - acc: 0.9205 - val_loss: 0.9068 - val_acc: 0.8979\n",
            "Epoch 54/300\n",
            "390/390 [==============================] - 28s 71ms/step - loss: 0.8072 - acc: 0.9207 - val_loss: 0.9050 - val_acc: 0.8982\n",
            "Epoch 55/300\n",
            "390/390 [==============================] - 28s 72ms/step - loss: 0.8071 - acc: 0.9205 - val_loss: 0.9131 - val_acc: 0.8963\n",
            "Epoch 56/300\n",
            "390/390 [==============================] - 28s 72ms/step - loss: 0.8033 - acc: 0.9221 - val_loss: 0.9042 - val_acc: 0.8963\n",
            "Epoch 57/300\n",
            "390/390 [==============================] - 28s 71ms/step - loss: 0.8081 - acc: 0.9193 - val_loss: 0.9067 - val_acc: 0.8977\n",
            "Epoch 58/300\n",
            "390/390 [==============================] - 28s 72ms/step - loss: 0.7993 - acc: 0.9222 - val_loss: 0.9063 - val_acc: 0.8957\n",
            "Epoch 59/300\n",
            "390/390 [==============================] - 28s 72ms/step - loss: 0.7985 - acc: 0.9226 - val_loss: 0.9039 - val_acc: 0.8986\n",
            "Epoch 60/300\n",
            "390/390 [==============================] - 28s 72ms/step - loss: 0.7920 - acc: 0.9254 - val_loss: 0.8990 - val_acc: 0.8985\n",
            "Epoch 61/300\n",
            "390/390 [==============================] - 28s 72ms/step - loss: 0.7930 - acc: 0.9233 - val_loss: 0.8978 - val_acc: 0.8980\n",
            "Epoch 62/300\n",
            "390/390 [==============================] - 28s 72ms/step - loss: 0.7877 - acc: 0.9254 - val_loss: 0.8985 - val_acc: 0.8993\n",
            "Epoch 63/300\n",
            "390/390 [==============================] - 28s 71ms/step - loss: 0.7905 - acc: 0.9244 - val_loss: 0.8955 - val_acc: 0.8985\n",
            "Epoch 64/300\n",
            "390/390 [==============================] - 28s 71ms/step - loss: 0.7899 - acc: 0.9263 - val_loss: 0.8954 - val_acc: 0.8989\n",
            "Epoch 65/300\n",
            "390/390 [==============================] - 28s 71ms/step - loss: 0.7875 - acc: 0.9251 - val_loss: 0.8953 - val_acc: 0.8989\n",
            "Epoch 66/300\n",
            "390/390 [==============================] - 28s 72ms/step - loss: 0.7822 - acc: 0.9272 - val_loss: 0.8966 - val_acc: 0.8982\n",
            "Epoch 67/300\n",
            "390/390 [==============================] - 28s 71ms/step - loss: 0.7868 - acc: 0.9257 - val_loss: 0.8957 - val_acc: 0.8985\n",
            "Epoch 68/300\n",
            "390/390 [==============================] - 28s 72ms/step - loss: 0.7853 - acc: 0.9263 - val_loss: 0.8958 - val_acc: 0.8985\n",
            "Epoch 69/300\n",
            "390/390 [==============================] - 28s 72ms/step - loss: 0.7882 - acc: 0.9245 - val_loss: 0.8994 - val_acc: 0.8978\n",
            "Epoch 70/300\n",
            "390/390 [==============================] - 28s 71ms/step - loss: 0.7871 - acc: 0.9263 - val_loss: 0.8960 - val_acc: 0.8983\n",
            "Epoch 71/300\n",
            "390/390 [==============================] - 28s 72ms/step - loss: 0.7871 - acc: 0.9260 - val_loss: 0.8966 - val_acc: 0.8996\n",
            "Epoch 72/300\n",
            "390/390 [==============================] - 28s 72ms/step - loss: 0.7853 - acc: 0.9248 - val_loss: 0.8989 - val_acc: 0.8979\n",
            "Epoch 73/300\n",
            "390/390 [==============================] - 28s 72ms/step - loss: 0.7819 - acc: 0.9274 - val_loss: 0.8973 - val_acc: 0.8994\n",
            "Epoch 74/300\n",
            "390/390 [==============================] - 28s 72ms/step - loss: 0.7840 - acc: 0.9263 - val_loss: 0.8953 - val_acc: 0.9002\n",
            "Epoch 75/300\n",
            "390/390 [==============================] - 28s 72ms/step - loss: 0.7788 - acc: 0.9291 - val_loss: 0.8953 - val_acc: 0.8991\n",
            "Epoch 76/300\n",
            "390/390 [==============================] - 28s 72ms/step - loss: 0.7831 - acc: 0.9270 - val_loss: 0.8966 - val_acc: 0.8987\n",
            "Epoch 77/300\n",
            "390/390 [==============================] - 28s 71ms/step - loss: 0.7796 - acc: 0.9281 - val_loss: 0.8968 - val_acc: 0.8980\n",
            "Epoch 78/300\n",
            "390/390 [==============================] - 28s 71ms/step - loss: 0.7806 - acc: 0.9284 - val_loss: 0.8958 - val_acc: 0.8997\n",
            "Epoch 79/300\n",
            "390/390 [==============================] - 28s 72ms/step - loss: 0.7787 - acc: 0.9280 - val_loss: 0.8942 - val_acc: 0.8996\n",
            "Epoch 80/300\n",
            "390/390 [==============================] - 28s 72ms/step - loss: 0.7753 - acc: 0.9301 - val_loss: 0.8944 - val_acc: 0.8999\n",
            "Epoch 81/300\n",
            "390/390 [==============================] - 28s 71ms/step - loss: 0.7772 - acc: 0.9303 - val_loss: 0.8941 - val_acc: 0.8993\n",
            "Epoch 82/300\n",
            "390/390 [==============================] - 28s 72ms/step - loss: 0.7778 - acc: 0.9280 - val_loss: 0.8934 - val_acc: 0.8993\n",
            "Epoch 83/300\n",
            "390/390 [==============================] - 28s 72ms/step - loss: 0.7774 - acc: 0.9280 - val_loss: 0.8937 - val_acc: 0.8997\n",
            "Epoch 84/300\n",
            "390/390 [==============================] - 28s 72ms/step - loss: 0.7775 - acc: 0.9287 - val_loss: 0.8933 - val_acc: 0.8989\n",
            "Epoch 85/300\n",
            "390/390 [==============================] - 28s 72ms/step - loss: 0.7795 - acc: 0.9282 - val_loss: 0.8929 - val_acc: 0.9000\n",
            "Epoch 86/300\n",
            "390/390 [==============================] - 28s 72ms/step - loss: 0.7797 - acc: 0.9277 - val_loss: 0.8930 - val_acc: 0.8987\n",
            "Epoch 87/300\n",
            "390/390 [==============================] - 28s 72ms/step - loss: 0.7786 - acc: 0.9285 - val_loss: 0.8940 - val_acc: 0.8998\n",
            "Epoch 88/300\n",
            "390/390 [==============================] - 28s 72ms/step - loss: 0.7785 - acc: 0.9285 - val_loss: 0.8935 - val_acc: 0.9002\n",
            "Epoch 89/300\n",
            "390/390 [==============================] - 28s 72ms/step - loss: 0.7785 - acc: 0.9278 - val_loss: 0.8929 - val_acc: 0.8993\n",
            "Epoch 90/300\n",
            "390/390 [==============================] - 28s 72ms/step - loss: 0.7805 - acc: 0.9276 - val_loss: 0.8930 - val_acc: 0.9009\n",
            "Epoch 91/300\n",
            "390/390 [==============================] - 28s 72ms/step - loss: 0.7773 - acc: 0.9281 - val_loss: 0.8941 - val_acc: 0.8999\n",
            "Epoch 92/300\n",
            "390/390 [==============================] - 28s 72ms/step - loss: 0.7766 - acc: 0.9283 - val_loss: 0.8922 - val_acc: 0.9005\n",
            "Epoch 93/300\n",
            "390/390 [==============================] - 28s 71ms/step - loss: 0.7773 - acc: 0.9281 - val_loss: 0.8916 - val_acc: 0.9000\n",
            "Epoch 94/300\n",
            "390/390 [==============================] - 28s 71ms/step - loss: 0.7711 - acc: 0.9321 - val_loss: 0.8920 - val_acc: 0.9001\n",
            "Epoch 95/300\n",
            "390/390 [==============================] - 28s 72ms/step - loss: 0.7708 - acc: 0.9310 - val_loss: 0.8917 - val_acc: 0.8990\n",
            "Epoch 96/300\n",
            "390/390 [==============================] - 28s 71ms/step - loss: 0.7708 - acc: 0.9302 - val_loss: 0.8917 - val_acc: 0.8994\n",
            "Epoch 97/300\n",
            "390/390 [==============================] - 28s 71ms/step - loss: 0.7736 - acc: 0.9291 - val_loss: 0.8917 - val_acc: 0.8995\n",
            "Epoch 98/300\n",
            "390/390 [==============================] - 28s 71ms/step - loss: 0.7747 - acc: 0.9289 - val_loss: 0.8917 - val_acc: 0.9002\n",
            "Epoch 99/300\n",
            "390/390 [==============================] - 28s 71ms/step - loss: 0.7757 - acc: 0.9271 - val_loss: 0.8919 - val_acc: 0.8994\n",
            "Epoch 100/300\n",
            "390/390 [==============================] - 28s 71ms/step - loss: 0.7757 - acc: 0.9292 - val_loss: 0.8912 - val_acc: 0.8995\n",
            "\n",
            "Epoch 00100: val_loss improved from 0.90096 to 0.89117, saving model to best_model.h5\n",
            "Epoch 101/300\n",
            "390/390 [==============================] - 28s 72ms/step - loss: 0.7754 - acc: 0.9276 - val_loss: 0.8911 - val_acc: 0.8991\n",
            "Epoch 102/300\n",
            "390/390 [==============================] - 28s 72ms/step - loss: 0.7758 - acc: 0.9286 - val_loss: 0.8912 - val_acc: 0.9003\n",
            "Epoch 103/300\n",
            "390/390 [==============================] - 28s 71ms/step - loss: 0.7737 - acc: 0.9296 - val_loss: 0.8910 - val_acc: 0.8999\n",
            "Epoch 104/300\n",
            "390/390 [==============================] - 28s 72ms/step - loss: 0.7756 - acc: 0.9286 - val_loss: 0.8910 - val_acc: 0.8995\n",
            "Epoch 105/300\n",
            "390/390 [==============================] - 28s 71ms/step - loss: 0.7753 - acc: 0.9286 - val_loss: 0.8911 - val_acc: 0.8994\n",
            "Epoch 106/300\n",
            "390/390 [==============================] - 28s 71ms/step - loss: 0.7760 - acc: 0.9285 - val_loss: 0.8914 - val_acc: 0.8988\n",
            "Epoch 107/300\n",
            "390/390 [==============================] - 28s 71ms/step - loss: 0.7687 - acc: 0.9312 - val_loss: 0.8905 - val_acc: 0.8992\n",
            "Epoch 108/300\n",
            "390/390 [==============================] - 28s 71ms/step - loss: 0.7744 - acc: 0.9283 - val_loss: 0.8912 - val_acc: 0.8991\n",
            "Epoch 109/300\n",
            "390/390 [==============================] - 28s 71ms/step - loss: 0.7763 - acc: 0.9277 - val_loss: 0.8906 - val_acc: 0.8996\n",
            "Epoch 110/300\n",
            "390/390 [==============================] - 28s 71ms/step - loss: 0.7750 - acc: 0.9290 - val_loss: 0.8903 - val_acc: 0.8992\n",
            "Epoch 111/300\n",
            "390/390 [==============================] - 28s 71ms/step - loss: 0.7744 - acc: 0.9287 - val_loss: 0.8909 - val_acc: 0.8990\n",
            "Epoch 112/300\n",
            "390/390 [==============================] - 28s 72ms/step - loss: 0.7775 - acc: 0.9273 - val_loss: 0.8909 - val_acc: 0.8991\n",
            "Epoch 113/300\n",
            "390/390 [==============================] - 28s 72ms/step - loss: 0.7673 - acc: 0.9319 - val_loss: 0.8904 - val_acc: 0.8989\n",
            "Epoch 114/300\n",
            "390/390 [==============================] - 28s 71ms/step - loss: 0.7769 - acc: 0.9283 - val_loss: 0.8909 - val_acc: 0.8994\n",
            "Epoch 115/300\n",
            "390/390 [==============================] - 28s 72ms/step - loss: 0.7748 - acc: 0.9297 - val_loss: 0.8907 - val_acc: 0.8997\n",
            "Epoch 116/300\n",
            "390/390 [==============================] - 28s 72ms/step - loss: 0.7722 - acc: 0.9309 - val_loss: 0.8904 - val_acc: 0.8994\n",
            "Epoch 117/300\n",
            "390/390 [==============================] - 28s 73ms/step - loss: 0.7710 - acc: 0.9305 - val_loss: 0.8904 - val_acc: 0.8997\n",
            "Epoch 118/300\n",
            "390/390 [==============================] - 28s 72ms/step - loss: 0.7721 - acc: 0.9302 - val_loss: 0.8907 - val_acc: 0.9000\n",
            "Epoch 119/300\n",
            "390/390 [==============================] - 28s 73ms/step - loss: 0.7731 - acc: 0.9295 - val_loss: 0.8907 - val_acc: 0.9001\n",
            "Epoch 120/300\n",
            "390/390 [==============================] - 28s 72ms/step - loss: 0.7696 - acc: 0.9313 - val_loss: 0.8904 - val_acc: 0.9002\n",
            "Epoch 121/300\n",
            "390/390 [==============================] - 28s 72ms/step - loss: 0.7746 - acc: 0.9284 - val_loss: 0.8904 - val_acc: 0.8991\n",
            "Epoch 122/300\n",
            "390/390 [==============================] - 28s 72ms/step - loss: 0.7748 - acc: 0.9286 - val_loss: 0.8910 - val_acc: 0.8999\n",
            "Epoch 123/300\n",
            "390/390 [==============================] - 28s 72ms/step - loss: 0.7717 - acc: 0.9297 - val_loss: 0.8903 - val_acc: 0.9005\n",
            "Epoch 124/300\n",
            "390/390 [==============================] - 28s 72ms/step - loss: 0.7705 - acc: 0.9307 - val_loss: 0.8905 - val_acc: 0.8990\n",
            "Epoch 125/300\n",
            "390/390 [==============================] - 28s 72ms/step - loss: 0.7722 - acc: 0.9289 - val_loss: 0.8901 - val_acc: 0.9001\n",
            "Epoch 126/300\n",
            "390/390 [==============================] - 28s 72ms/step - loss: 0.7671 - acc: 0.9317 - val_loss: 0.8904 - val_acc: 0.8999\n",
            "Epoch 127/300\n",
            "390/390 [==============================] - 28s 72ms/step - loss: 0.7717 - acc: 0.9291 - val_loss: 0.8909 - val_acc: 0.8998\n",
            "Epoch 128/300\n",
            "390/390 [==============================] - 28s 72ms/step - loss: 0.7679 - acc: 0.9308 - val_loss: 0.8908 - val_acc: 0.8995\n",
            "Epoch 129/300\n",
            "390/390 [==============================] - 28s 72ms/step - loss: 0.7665 - acc: 0.9324 - val_loss: 0.8908 - val_acc: 0.8997\n",
            "Epoch 130/300\n",
            "390/390 [==============================] - 28s 72ms/step - loss: 0.7757 - acc: 0.9286 - val_loss: 0.8906 - val_acc: 0.9002\n",
            "Epoch 131/300\n",
            "390/390 [==============================] - 28s 71ms/step - loss: 0.7726 - acc: 0.9299 - val_loss: 0.8906 - val_acc: 0.9002\n",
            "Epoch 132/300\n",
            "390/390 [==============================] - 28s 72ms/step - loss: 0.7746 - acc: 0.9298 - val_loss: 0.8911 - val_acc: 0.8990\n",
            "Epoch 133/300\n",
            "390/390 [==============================] - 28s 71ms/step - loss: 0.7699 - acc: 0.9297 - val_loss: 0.8907 - val_acc: 0.8999\n",
            "Epoch 134/300\n",
            "390/390 [==============================] - 28s 72ms/step - loss: 0.7712 - acc: 0.9293 - val_loss: 0.8907 - val_acc: 0.8997\n",
            "Epoch 135/300\n",
            "390/390 [==============================] - 28s 72ms/step - loss: 0.7697 - acc: 0.9318 - val_loss: 0.8911 - val_acc: 0.8993\n",
            "Epoch 136/300\n",
            "390/390 [==============================] - 28s 72ms/step - loss: 0.7688 - acc: 0.9304 - val_loss: 0.8911 - val_acc: 0.8998\n",
            "Epoch 137/300\n",
            "390/390 [==============================] - 28s 72ms/step - loss: 0.7708 - acc: 0.9300 - val_loss: 0.8912 - val_acc: 0.8997\n",
            "Epoch 138/300\n",
            "390/390 [==============================] - 28s 72ms/step - loss: 0.7728 - acc: 0.9295 - val_loss: 0.8908 - val_acc: 0.8995\n",
            "Epoch 139/300\n",
            "390/390 [==============================] - 28s 72ms/step - loss: 0.7658 - acc: 0.9315 - val_loss: 0.8908 - val_acc: 0.9002\n",
            "Epoch 140/300\n",
            "390/390 [==============================] - 28s 72ms/step - loss: 0.7716 - acc: 0.9306 - val_loss: 0.8909 - val_acc: 0.9006\n",
            "Epoch 141/300\n",
            "390/390 [==============================] - 28s 72ms/step - loss: 0.7708 - acc: 0.9308 - val_loss: 0.8910 - val_acc: 0.8996\n",
            "Epoch 142/300\n",
            "390/390 [==============================] - 28s 72ms/step - loss: 0.7739 - acc: 0.9283 - val_loss: 0.8905 - val_acc: 0.9002\n",
            "Epoch 143/300\n",
            "390/390 [==============================] - 28s 71ms/step - loss: 0.7690 - acc: 0.9314 - val_loss: 0.8905 - val_acc: 0.8998\n",
            "Epoch 144/300\n",
            "321/390 [=======================>......] - ETA: 4s - loss: 0.7705 - acc: 0.9301Buffered data was truncated after reaching the output size limit."
          ],
          "name": "stdout"
        }
      ]
    },
    {
      "cell_type": "markdown",
      "metadata": {
        "id": "rpC5QEYwZ22Y",
        "colab_type": "text"
      },
      "source": [
        "We can see that model has reached accuracy of 90% many times, however, I keep early stopping at 91% that's why it didn't stop training as it reached 90% accuracy. With google colab providing lesser GPU hours, it stopped training early. However, we have achieved the goal accuracy of 90%."
      ]
    },
    {
      "cell_type": "code",
      "metadata": {
        "id": "lXpThjwvJlfp",
        "colab_type": "code",
        "colab": {}
      },
      "source": [
        ""
      ],
      "execution_count": 0,
      "outputs": []
    }
  ]
}