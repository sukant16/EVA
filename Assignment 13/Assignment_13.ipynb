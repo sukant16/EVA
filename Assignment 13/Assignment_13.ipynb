{
  "nbformat": 4,
  "nbformat_minor": 0,
  "metadata": {
    "colab": {
      "name": "Assignment 13.ipynb",
      "provenance": [],
      "collapsed_sections": []
    },
    "kernelspec": {
      "name": "python3",
      "display_name": "Python 3"
    },
    "accelerator": "GPU"
  },
  "cells": [
    {
      "cell_type": "code",
      "metadata": {
        "id": "8D35vSs2M-Qw",
        "colab_type": "code",
        "outputId": "a423a829-9976-4294-b5c2-90cc70dad429",
        "colab": {
          "base_uri": "https://localhost:8080/",
          "height": 124
        }
      },
      "source": [
        "from google.colab import drive\n",
        "drive.mount(\"/content/gdrive\")"
      ],
      "execution_count": 2,
      "outputs": [
        {
          "output_type": "stream",
          "text": [
            "Go to this URL in a browser: https://accounts.google.com/o/oauth2/auth?client_id=947318989803-6bn6qk8qdgf4n4g3pfee6491hc0brc4i.apps.googleusercontent.com&redirect_uri=urn%3aietf%3awg%3aoauth%3a2.0%3aoob&response_type=code&scope=email%20https%3a%2f%2fwww.googleapis.com%2fauth%2fdocs.test%20https%3a%2f%2fwww.googleapis.com%2fauth%2fdrive%20https%3a%2f%2fwww.googleapis.com%2fauth%2fdrive.photos.readonly%20https%3a%2f%2fwww.googleapis.com%2fauth%2fpeopleapi.readonly\n",
            "\n",
            "Enter your authorization code:\n",
            "··········\n",
            "Mounted at /content/gdrive\n"
          ],
          "name": "stdout"
        }
      ]
    },
    {
      "cell_type": "code",
      "metadata": {
        "id": "_w0YZt09M7-n",
        "colab_type": "code",
        "colab": {}
      },
      "source": [
        "import os\n",
        "os.chdir(\"/content/gdrive/My Drive/Colab Notebooks/EVA\")"
      ],
      "execution_count": 0,
      "outputs": []
    },
    {
      "cell_type": "code",
      "metadata": {
        "id": "nSMAyBhzHaZm",
        "colab_type": "code",
        "outputId": "ed7dd7b9-7edd-4c1e-f897-9409b7c56281",
        "colab": {
          "base_uri": "https://localhost:8080/",
          "height": 81
        }
      },
      "source": [
        "%matplotlib inline\n",
        "import tensorflow as tf\n",
        "import numpy as np\n",
        "import matplotlib.pyplot as plt\n",
        "from keras.optimizers import SGD\n",
        "from keras.callbacks import ModelCheckpoint, EarlyStopping\n",
        "from keras.preprocessing.image import ImageDataGenerator\n",
        "from keras.utils import np_utils    \n",
        "\n",
        "from deep_vision.resnet import ResNet\n",
        "from deep_vision.cutout import get_random_eraser\n",
        "from deep_vision.lr_finder import LR_Finder \n",
        "from deep_vision.clr_callback import CyclicLR"
      ],
      "execution_count": 4,
      "outputs": [
        {
          "output_type": "display_data",
          "data": {
            "text/html": [
              "<p style=\"color: red;\">\n",
              "The default version of TensorFlow in Colab will soon switch to TensorFlow 2.x.<br>\n",
              "We recommend you <a href=\"https://www.tensorflow.org/guide/migrate\" target=\"_blank\">upgrade</a> now \n",
              "or ensure your notebook will continue to use TensorFlow 1.x via the <code>%tensorflow_version 1.x</code> magic:\n",
              "<a href=\"https://colab.research.google.com/notebooks/tensorflow_version.ipynb\" target=\"_blank\">more info</a>.</p>\n"
            ],
            "text/plain": [
              "<IPython.core.display.HTML object>"
            ]
          },
          "metadata": {
            "tags": []
          }
        },
        {
          "output_type": "stream",
          "text": [
            "Using TensorFlow backend.\n"
          ],
          "name": "stderr"
        }
      ]
    },
    {
      "cell_type": "markdown",
      "metadata": {
        "id": "1hCCNCPkizKd",
        "colab_type": "text"
      },
      "source": [
        "Restrictions:\n",
        "- Your model must look like Conv->B1->B2->B3->B4 and not individually called Convs. \n",
        "- Batch Size 128\n",
        "- Normalization values of: (0.4914, 0.4822, 0.4465), (0.2023, 0.1994, 0.2010)\n",
        "- Random Crop of 32 with padding of 4px Horizontal Flip (0.5)\n",
        "- Optimizer: SGD, Weight-Decay: 5e-4\n",
        "- NOT-OneCycleLR\n",
        "- Save model (to drive) after every 50 epochs or best model till now\n",
        "- Describe your blocks, and the stride strategy you have picked\n",
        "- Train for 300 Epochs\n",
        "- Assignment Target Accuracy is 90%, so exit gracefully if you reach 90% (you can target more, it can go till ~93%)"
      ]
    },
    {
      "cell_type": "code",
      "metadata": {
        "id": "6OwxXNiaO6dm",
        "colab_type": "code",
        "colab": {}
      },
      "source": [
        "BATCH_SIZE = 128 #@param {type:\"integer\"}\n",
        "MOMENTUM = 0.9 #@param {type:\"number\"}\n",
        "WEIGHT_DECAY = 5e-4 #@param {type:\"number\"}\n",
        "EPOCHS = 300 #@param {type:\"integer\"}"
      ],
      "execution_count": 0,
      "outputs": []
    },
    {
      "cell_type": "code",
      "metadata": {
        "id": "zELf8wAiPKLP",
        "colab_type": "code",
        "outputId": "533977d3-5f79-43b4-f7d4-5f78bafbca7f",
        "colab": {
          "base_uri": "https://localhost:8080/",
          "height": 86
        }
      },
      "source": [
        "(x_train, y_train), (x_test, y_test) = tf.keras.datasets.cifar10.load_data()\n",
        "len_train, len_test = len(x_train), len(x_test)\n",
        "y_train = y_train.astype('int64').reshape(len_train)\n",
        "y_test = y_test.astype('int64').reshape(len_test)\n",
        "\n",
        "train_mean = np.mean(x_train, axis=(0,1,2))\n",
        "train_std = np.std(x_train, axis=(0,1,2))\n",
        "\n",
        "given_mean, given_std = (0.4914, 0.4822, 0.4465), (0.2023, 0.1994, 0.2010)\n",
        "\n",
        "print(\"Calc mean:\", train_mean)\n",
        "print(\"Calc std:\", train_std) "
      ],
      "execution_count": 6,
      "outputs": [
        {
          "output_type": "stream",
          "text": [
            "Downloading data from https://www.cs.toronto.edu/~kriz/cifar-10-python.tar.gz\n",
            "170500096/170498071 [==============================] - 11s 0us/step\n",
            "Calc mean: [125.30691805 122.95039414 113.86538318]\n",
            "Calc std: [62.99321928 62.08870764 66.70489964]\n"
          ],
          "name": "stdout"
        }
      ]
    },
    {
      "cell_type": "code",
      "metadata": {
        "id": "RtEMSE86O8lV",
        "colab_type": "code",
        "colab": {}
      },
      "source": [
        "# normalize and padding the training data\n",
        "normalize = lambda x: ((x - given_mean) / given_std).astype('float32') # todo: check here\n",
        "pad4 = lambda x: np.pad(x, [(0, 0), (4, 4), (4, 4), (0, 0)], mode='reflect')\n",
        "\n",
        "x_train_norm = normalize(x_train)\n",
        "x_train = normalize(pad4(x_train))\n",
        "x_test = normalize(x_test)"
      ],
      "execution_count": 0,
      "outputs": []
    },
    {
      "cell_type": "code",
      "metadata": {
        "id": "G1qjRG8JSG0r",
        "colab_type": "code",
        "colab": {}
      },
      "source": [
        "norm_x_train_mean = np.mean(x_train_norm, axis=(0,1,2))"
      ],
      "execution_count": 0,
      "outputs": []
    },
    {
      "cell_type": "code",
      "metadata": {
        "id": "4fcG16X6RYtx",
        "colab_type": "code",
        "colab": {}
      },
      "source": [
        "# Convert 1-dimensional class arrays to 10-dimensional class matrices\n",
        "Y_train = np_utils.to_categorical(y_train, 10)\n",
        "Y_test = np_utils.to_categorical(y_test, 10)"
      ],
      "execution_count": 0,
      "outputs": []
    },
    {
      "cell_type": "code",
      "metadata": {
        "id": "uXgcbUUXMycn",
        "colab_type": "code",
        "colab": {}
      },
      "source": [
        "'''\n",
        "As we training CIFAR-10, we will be using basic blocks where we are using \n",
        "fully pre-activated BN-RELU-CONV(3x3) as  per ResNet V2.  \n",
        "Resnet.py contains the entire code for building the model\n",
        "''' \n",
        "def make_model():\n",
        "    return ResNet(input_shape=(32,32,3), classes=10, block='basic', residual_unit='v2',\n",
        "                  repetitions=[2,2,2,2], initial_filters=64, activation='softmax', include_top=True,\n",
        "                  input_tensor=None, dropout=None, transition_dilation_rate=(1, 1),\n",
        "                  initial_strides=(1, 1), initial_kernel_size=(3, 3), initial_pooling=None,\n",
        "                  final_pooling='avg', top='classification')"
      ],
      "execution_count": 0,
      "outputs": []
    },
    {
      "cell_type": "markdown",
      "metadata": {
        "id": "JMHcPHq9ZU_F",
        "colab_type": "text"
      },
      "source": [
        "#### Finding the min and max learning rates"
      ]
    },
    {
      "cell_type": "code",
      "metadata": {
        "id": "nk9NKddBO0XX",
        "colab_type": "code",
        "outputId": "4f9d5f78-a6bd-48ba-d5ed-4357ca1e9d1e",
        "colab": {
          "base_uri": "https://localhost:8080/",
          "height": 555
        }
      },
      "source": [
        "model = make_model()\n",
        "sgd = SGD(1e-4, momentum=MOMENTUM, nesterov=True, decay=WEIGHT_DECAY)\n",
        "\n",
        "model.compile(optimizer=sgd, loss='categorical_crossentropy', metrics=['accuracy'])"
      ],
      "execution_count": 11,
      "outputs": [
        {
          "output_type": "stream",
          "text": [
            "WARNING:tensorflow:From /usr/local/lib/python3.6/dist-packages/keras/backend/tensorflow_backend.py:66: The name tf.get_default_graph is deprecated. Please use tf.compat.v1.get_default_graph instead.\n",
            "\n",
            "WARNING:tensorflow:From /usr/local/lib/python3.6/dist-packages/keras/backend/tensorflow_backend.py:541: The name tf.placeholder is deprecated. Please use tf.compat.v1.placeholder instead.\n",
            "\n",
            "WARNING:tensorflow:From /usr/local/lib/python3.6/dist-packages/keras/backend/tensorflow_backend.py:4479: The name tf.truncated_normal is deprecated. Please use tf.random.truncated_normal instead.\n",
            "\n",
            "WARNING:tensorflow:From /usr/local/lib/python3.6/dist-packages/keras/backend/tensorflow_backend.py:190: The name tf.get_default_session is deprecated. Please use tf.compat.v1.get_default_session instead.\n",
            "\n",
            "WARNING:tensorflow:From /usr/local/lib/python3.6/dist-packages/keras/backend/tensorflow_backend.py:197: The name tf.ConfigProto is deprecated. Please use tf.compat.v1.ConfigProto instead.\n",
            "\n",
            "WARNING:tensorflow:From /usr/local/lib/python3.6/dist-packages/keras/backend/tensorflow_backend.py:203: The name tf.Session is deprecated. Please use tf.compat.v1.Session instead.\n",
            "\n",
            "WARNING:tensorflow:From /usr/local/lib/python3.6/dist-packages/keras/backend/tensorflow_backend.py:207: The name tf.global_variables is deprecated. Please use tf.compat.v1.global_variables instead.\n",
            "\n",
            "WARNING:tensorflow:From /usr/local/lib/python3.6/dist-packages/keras/backend/tensorflow_backend.py:216: The name tf.is_variable_initialized is deprecated. Please use tf.compat.v1.is_variable_initialized instead.\n",
            "\n",
            "WARNING:tensorflow:From /usr/local/lib/python3.6/dist-packages/keras/backend/tensorflow_backend.py:223: The name tf.variables_initializer is deprecated. Please use tf.compat.v1.variables_initializer instead.\n",
            "\n",
            "WARNING:tensorflow:From /usr/local/lib/python3.6/dist-packages/keras/backend/tensorflow_backend.py:2041: The name tf.nn.fused_batch_norm is deprecated. Please use tf.compat.v1.nn.fused_batch_norm instead.\n",
            "\n",
            "WARNING:tensorflow:From /usr/local/lib/python3.6/dist-packages/keras/backend/tensorflow_backend.py:148: The name tf.placeholder_with_default is deprecated. Please use tf.compat.v1.placeholder_with_default instead.\n",
            "\n",
            "reshaping via a convolution...\n",
            "reshaping via a convolution...\n",
            "reshaping via a convolution...\n",
            "reshaping via a convolution...\n",
            "WARNING:tensorflow:From /usr/local/lib/python3.6/dist-packages/keras/optimizers.py:793: The name tf.train.Optimizer is deprecated. Please use tf.compat.v1.train.Optimizer instead.\n",
            "\n",
            "WARNING:tensorflow:From /usr/local/lib/python3.6/dist-packages/keras/backend/tensorflow_backend.py:3576: The name tf.log is deprecated. Please use tf.math.log instead.\n",
            "\n"
          ],
          "name": "stdout"
        }
      ]
    },
    {
      "cell_type": "code",
      "metadata": {
        "id": "1EFXp1p_Ku_0",
        "colab_type": "code",
        "outputId": "92e50487-8dfc-4e4d-eb78-6290bbd0d6a6",
        "colab": {
          "base_uri": "https://localhost:8080/",
          "height": 210
        }
      },
      "source": [
        "lr_finder = LR_Finder(start_lr=1e-7, end_lr=10, step_size=np.ceil(x_train_norm.shape[0]/BATCH_SIZE))\n",
        "model.fit(x_train_norm, Y_train, callbacks=[lr_finder], batch_size=BATCH_SIZE)"
      ],
      "execution_count": 12,
      "outputs": [
        {
          "output_type": "stream",
          "text": [
            "WARNING:tensorflow:From /usr/local/lib/python3.6/dist-packages/tensorflow_core/python/ops/math_grad.py:1424: where (from tensorflow.python.ops.array_ops) is deprecated and will be removed in a future version.\n",
            "Instructions for updating:\n",
            "Use tf.where in 2.0, which has the same broadcast rule as np.where\n",
            "WARNING:tensorflow:From /usr/local/lib/python3.6/dist-packages/keras/backend/tensorflow_backend.py:1033: The name tf.assign_add is deprecated. Please use tf.compat.v1.assign_add instead.\n",
            "\n",
            "WARNING:tensorflow:From /usr/local/lib/python3.6/dist-packages/keras/backend/tensorflow_backend.py:1020: The name tf.assign is deprecated. Please use tf.compat.v1.assign instead.\n",
            "\n",
            "Epoch 1/1\n",
            "50000/50000 [==============================] - 25s 501us/step - loss: 3.3897 - acc: 0.1927\n"
          ],
          "name": "stdout"
        },
        {
          "output_type": "execute_result",
          "data": {
            "text/plain": [
              "<keras.callbacks.History at 0x7f97e0164da0>"
            ]
          },
          "metadata": {
            "tags": []
          },
          "execution_count": 12
        }
      ]
    },
    {
      "cell_type": "code",
      "metadata": {
        "id": "7jMP81NNSpdC",
        "colab_type": "code",
        "outputId": "4e6fc9e9-c1cb-415a-8e8a-547bb524609e",
        "colab": {
          "base_uri": "https://localhost:8080/",
          "height": 279
        }
      },
      "source": [
        "lr_finder.plot_lr()"
      ],
      "execution_count": 13,
      "outputs": [
        {
          "output_type": "display_data",
          "data": {
            "image/png": "[encoded data removed]",
            "text/plain": [
              "<Figure size 432x288 with 1 Axes>"
            ]
          },
          "metadata": {
            "tags": []
          }
        }
      ]
    },
    {
      "cell_type": "code",
      "metadata": {
        "id": "nc2uEShQTDqz",
        "colab_type": "code",
        "outputId": "4a388833-8a0f-459e-ca07-90ae5dc8bc65",
        "colab": {
          "base_uri": "https://localhost:8080/",
          "height": 283
        }
      },
      "source": [
        "lr_finder.plot_lr_loss()"
      ],
      "execution_count": 14,
      "outputs": [
        {
          "output_type": "display_data",
          "data": {
            "image/png": "[encoded data removed]",
            "text/plain": [
              "<Figure size 432x288 with 1 Axes>"
            ]
          },
          "metadata": {
            "tags": []
          }
        }
      ]
    },
    {
      "cell_type": "code",
      "metadata": {
        "id": "V5Ya7UMTTLrm",
        "colab_type": "code",
        "outputId": "6734079c-af7a-423b-d924-d3d1148e753c",
        "colab": {
          "base_uri": "https://localhost:8080/",
          "height": 286
        }
      },
      "source": [
        "lr_finder.plot_smoothed_lr_loss()"
      ],
      "execution_count": 15,
      "outputs": [
        {
          "output_type": "display_data",
          "data": {
            "image/png": "[encoded data removed]",
            "text/plain": [
              "<Figure size 432x288 with 1 Axes>"
            ]
          },
          "metadata": {
            "tags": []
          }
        }
      ]
    },
    {
      "cell_type": "markdown",
      "metadata": {
        "id": "sQcx8KjyTQ9q",
        "colab_type": "text"
      },
      "source": [
        "So, from the above plot, we can see that the min and max bounds of learning rate which are 0.0001 and 0.1 respectively"
      ]
    },
    {
      "cell_type": "code",
      "metadata": {
        "id": "GJW4IFrYQBRH",
        "colab_type": "code",
        "colab": {}
      },
      "source": [
        "# for random cropping\n",
        "def random_crop(img, random_crop_size):\n",
        "    # Note: image_data_format is 'channel_last'\n",
        "    assert img.shape[2] == 3\n",
        "    height, width = img.shape[0], img.shape[1]\n",
        "    dy, dx = random_crop_size\n",
        "    x = np.random.randint(0, width - dx + 1)\n",
        "    y = np.random.randint(0, height - dy + 1)\n",
        "    return img[y:(y+dy), x:(x+dx), :]\n",
        "\n",
        "\n",
        "def crop_generator(batches, crop_length):\n",
        "    \"\"\"Take as input a Keras ImageGen (Iterator) and generate random\n",
        "    crops from the image batches generated by the original iterator.\n",
        "    \"\"\"\n",
        "    while True:\n",
        "        batch_x, batch_y = next(batches)\n",
        "        batch_crops = np.zeros((batch_x.shape[0], crop_length, crop_length, 3))\n",
        "        for i in range(batch_x.shape[0]):\n",
        "            batch_crops[i] = random_crop(batch_x[i], (crop_length, crop_length))\n",
        "        yield (batch_crops, batch_y)"
      ],
      "execution_count": 0,
      "outputs": []
    },
    {
      "cell_type": "code",
      "metadata": {
        "id": "MTUVo3YHT3H0",
        "colab_type": "code",
        "colab": {}
      },
      "source": [
        "# Define the minimum learning rate, maximum learning rate, batch size, step size, CLR method, and number of epochs\n",
        "# Triangular2 is the methods where the max learning rate tapers of linearly in each cycle\n",
        "MIN_LR = 0.0001\n",
        "MAX_LR = 0.1\n",
        "STEP_SIZE = 8\n",
        "CLR_METHOD = \"triangular2\"\n",
        "NUM_EPOCHS = 96"
      ],
      "execution_count": 0,
      "outputs": []
    },
    {
      "cell_type": "markdown",
      "metadata": {
        "id": "t9n6NAcwZndN",
        "colab_type": "text"
      },
      "source": [
        "### Traininf the mode with cyclic LR\n",
        "\n",
        "Code for cyclic LR can be found in clr_callback.py"
      ]
    },
    {
      "cell_type": "code",
      "metadata": {
        "id": "KQwuLFaQT3Fv",
        "colab_type": "code",
        "colab": {
          "base_uri": "https://localhost:8080/",
          "height": 86
        },
        "outputId": "8d12b139-a1a8-4e28-a45e-c594466cc2cb"
      },
      "source": [
        "model = make_model()\n",
        "sgd = SGD(MIN_LR, momentum=MOMENTUM, nesterov=True, decay=WEIGHT_DECAY)\n",
        "model.compile(optimizer=sgd, loss='categorical_crossentropy', metrics=['accuracy'])\n",
        "\n",
        "clr = CyclicLR(mode=CLR_METHOD,\n",
        "               base_lr=MIN_LR,\n",
        "               max_lr=MAX_LR,\n",
        "               step_size= STEP_SIZE * (x_train.shape[0] // BATCH_SIZE))\n",
        "\n",
        "checkpoint = ModelCheckpoint(filepath=\"best_model.h5\", \n",
        "                             save_best_only=True,\n",
        "                             period=50,\n",
        "                             monitor=\"val_loss\",\n",
        "                             verbose=1)\n",
        "\n",
        "earlystop = EarlyStopping(monitor='val_accuracy', min_delta=0, patience=2, verbose=0, mode='auto', baseline=90.0, restore_best_weights=True)\n"
      ],
      "execution_count": 19,
      "outputs": [
        {
          "output_type": "stream",
          "text": [
            "reshaping via a convolution...\n",
            "reshaping via a convolution...\n",
            "reshaping via a convolution...\n",
            "reshaping via a convolution...\n"
          ],
          "name": "stdout"
        }
      ]
    },
    {
      "cell_type": "code",
      "metadata": {
        "id": "xdA1Qd8mLPr5",
        "colab_type": "code",
        "colab": {
          "base_uri": "https://localhost:8080/",
          "height": 1000
        },
        "outputId": "b3eb5a7d-7d78-4acd-fb7d-456f54e026bc"
      },
      "source": [
        "# random_crop = lambda x, y: (tf.image.random_flip_left_right(tf.random_crop(x, [32, 32, 3])), y)\n",
        "\n",
        "datagen = ImageDataGenerator(preprocessing_function=get_random_eraser(pixel_value=norm_x_train_mean), \n",
        "                             horizontal_flip=True)\n",
        "\n",
        "train_batches = datagen.flow(x_train, Y_train, batch_size=BATCH_SIZE)\n",
        "train_cropped_batches = crop_generator(train_batches, 32)\n",
        "\n",
        "model.fit_generator(train_cropped_batches,\n",
        "                    steps_per_epoch=x_train.shape[0]//BATCH_SIZE, \n",
        "                    epochs=EPOCHS, \n",
        "                    validation_data=(x_test, Y_test), \n",
        "                    callbacks=[clr, checkpoint, earlystop],\n",
        "                    verbose=1)"
      ],
      "execution_count": 20,
      "outputs": [
        {
          "output_type": "stream",
          "text": [
            "Epoch 1/300\n",
            "390/390 [==============================] - 27s 70ms/step - loss: 2.7379 - acc: 0.3523 - val_loss: 2.5363 - val_acc: 0.4337\n",
            "Epoch 2/300\n",
            "  3/390 [..............................] - ETA: 21s - loss: 2.5277 - acc: 0.4365"
          ],
          "name": "stdout"
        },
        {
          "output_type": "stream",
          "text": [
            "/usr/local/lib/python3.6/dist-packages/keras/callbacks.py:842: RuntimeWarning: Early stopping conditioned on metric `val_accuracy` which is not available. Available metrics are: val_loss,val_acc,loss,acc\n",
            "  (self.monitor, ','.join(list(logs.keys()))), RuntimeWarning\n"
          ],
          "name": "stderr"
        },
        {
          "output_type": "stream",
          "text": [
            "390/390 [==============================] - 24s 63ms/step - loss: 2.2942 - acc: 0.5156 - val_loss: 2.1437 - val_acc: 0.5712\n",
            "Epoch 3/300\n",
            "390/390 [==============================] - 25s 63ms/step - loss: 2.0713 - acc: 0.5939 - val_loss: 2.1959 - val_acc: 0.5569\n",
            "Epoch 4/300\n",
            "390/390 [==============================] - 24s 61ms/step - loss: 1.9094 - acc: 0.6453 - val_loss: 2.0879 - val_acc: 0.6107\n",
            "Epoch 5/300\n",
            "390/390 [==============================] - 24s 62ms/step - loss: 1.7752 - acc: 0.6825 - val_loss: 2.5292 - val_acc: 0.5425\n",
            "Epoch 6/300\n",
            "390/390 [==============================] - 25s 64ms/step - loss: 1.6690 - acc: 0.7158 - val_loss: 1.7069 - val_acc: 0.7002\n",
            "Epoch 7/300\n",
            "390/390 [==============================] - 24s 62ms/step - loss: 1.5755 - acc: 0.7378 - val_loss: 2.1579 - val_acc: 0.5855\n",
            "Epoch 8/300\n",
            "390/390 [==============================] - 24s 60ms/step - loss: 1.4944 - acc: 0.7539 - val_loss: 2.1184 - val_acc: 0.6065\n",
            "Epoch 9/300\n",
            "390/390 [==============================] - 24s 62ms/step - loss: 1.4097 - acc: 0.7750 - val_loss: 1.5767 - val_acc: 0.7258\n",
            "Epoch 10/300\n",
            "390/390 [==============================] - 23s 60ms/step - loss: 1.3163 - acc: 0.7966 - val_loss: 1.3005 - val_acc: 0.7971\n",
            "Epoch 11/300\n",
            "390/390 [==============================] - 23s 60ms/step - loss: 1.2459 - acc: 0.8141 - val_loss: 1.3186 - val_acc: 0.7949\n",
            "Epoch 12/300\n",
            "390/390 [==============================] - 23s 60ms/step - loss: 1.1839 - acc: 0.8272 - val_loss: 1.1827 - val_acc: 0.8282\n",
            "Epoch 13/300\n",
            "390/390 [==============================] - 24s 60ms/step - loss: 1.1347 - acc: 0.8417 - val_loss: 1.1199 - val_acc: 0.8526\n",
            "Epoch 14/300\n",
            "390/390 [==============================] - 23s 60ms/step - loss: 1.0840 - acc: 0.8568 - val_loss: 1.0927 - val_acc: 0.8540\n",
            "Epoch 15/300\n",
            "390/390 [==============================] - 23s 60ms/step - loss: 1.0499 - acc: 0.8652 - val_loss: 1.0389 - val_acc: 0.8739\n",
            "Epoch 16/300\n",
            "390/390 [==============================] - 23s 60ms/step - loss: 1.0266 - acc: 0.8724 - val_loss: 1.0073 - val_acc: 0.8842\n",
            "Epoch 17/300\n",
            "390/390 [==============================] - 23s 60ms/step - loss: 1.0146 - acc: 0.8785 - val_loss: 1.0160 - val_acc: 0.8806\n",
            "Epoch 18/300\n",
            "390/390 [==============================] - 23s 59ms/step - loss: 1.0110 - acc: 0.8779 - val_loss: 1.0351 - val_acc: 0.8755\n",
            "Epoch 19/300\n",
            "390/390 [==============================] - 23s 60ms/step - loss: 1.0136 - acc: 0.8768 - val_loss: 1.0454 - val_acc: 0.8729\n",
            "Epoch 20/300\n",
            "390/390 [==============================] - 23s 59ms/step - loss: 1.0122 - acc: 0.8753 - val_loss: 1.0264 - val_acc: 0.8789\n",
            "Epoch 21/300\n",
            "390/390 [==============================] - 23s 59ms/step - loss: 1.0088 - acc: 0.8755 - val_loss: 1.0435 - val_acc: 0.8671\n",
            "Epoch 22/300\n",
            "390/390 [==============================] - 23s 59ms/step - loss: 1.0044 - acc: 0.8761 - val_loss: 1.1414 - val_acc: 0.8397\n",
            "Epoch 23/300\n",
            "390/390 [==============================] - 23s 60ms/step - loss: 0.9984 - acc: 0.8744 - val_loss: 1.0370 - val_acc: 0.8662\n",
            "Epoch 24/300\n",
            "390/390 [==============================] - 23s 60ms/step - loss: 0.9949 - acc: 0.8726 - val_loss: 1.1111 - val_acc: 0.8394\n",
            "Epoch 25/300\n",
            "390/390 [==============================] - 23s 60ms/step - loss: 0.9764 - acc: 0.8763 - val_loss: 1.0300 - val_acc: 0.8617\n",
            "Epoch 26/300\n",
            "390/390 [==============================] - 24s 60ms/step - loss: 0.9558 - acc: 0.8817 - val_loss: 0.9981 - val_acc: 0.8774\n",
            "Epoch 27/300\n",
            "390/390 [==============================] - 23s 59ms/step - loss: 0.9325 - acc: 0.8880 - val_loss: 0.9868 - val_acc: 0.8780\n",
            "Epoch 28/300\n",
            "390/390 [==============================] - 23s 60ms/step - loss: 0.9148 - acc: 0.8924 - val_loss: 0.9568 - val_acc: 0.8848\n",
            "Epoch 29/300\n",
            "390/390 [==============================] - 23s 60ms/step - loss: 0.8973 - acc: 0.8969 - val_loss: 0.9533 - val_acc: 0.8851\n",
            "Epoch 30/300\n",
            "390/390 [==============================] - 23s 59ms/step - loss: 0.8860 - acc: 0.9021 - val_loss: 0.9279 - val_acc: 0.8926\n",
            "Epoch 31/300\n",
            "390/390 [==============================] - 23s 60ms/step - loss: 0.8748 - acc: 0.9053 - val_loss: 0.9231 - val_acc: 0.8929\n",
            "Epoch 32/300\n",
            "390/390 [==============================] - 23s 59ms/step - loss: 0.8613 - acc: 0.9100 - val_loss: 0.9145 - val_acc: 0.8975\n",
            "Epoch 33/300\n",
            "390/390 [==============================] - 23s 60ms/step - loss: 0.8593 - acc: 0.9085 - val_loss: 0.9164 - val_acc: 0.8967\n",
            "Epoch 34/300\n",
            "390/390 [==============================] - 23s 59ms/step - loss: 0.8605 - acc: 0.9100 - val_loss: 0.9161 - val_acc: 0.8966\n",
            "Epoch 35/300\n",
            "390/390 [==============================] - 23s 60ms/step - loss: 0.8613 - acc: 0.9098 - val_loss: 0.9217 - val_acc: 0.8940\n",
            "Epoch 36/300\n",
            "390/390 [==============================] - 23s 60ms/step - loss: 0.8634 - acc: 0.9077 - val_loss: 0.9276 - val_acc: 0.8943\n",
            "Epoch 37/300\n",
            "390/390 [==============================] - 23s 60ms/step - loss: 0.8588 - acc: 0.9083 - val_loss: 0.9192 - val_acc: 0.8962\n",
            "Epoch 38/300\n",
            "390/390 [==============================] - 23s 60ms/step - loss: 0.8559 - acc: 0.9098 - val_loss: 0.9186 - val_acc: 0.8964\n",
            "Epoch 39/300\n",
            "390/390 [==============================] - 24s 60ms/step - loss: 0.8550 - acc: 0.9093 - val_loss: 0.9351 - val_acc: 0.8885\n",
            "Epoch 40/300\n",
            "390/390 [==============================] - 24s 60ms/step - loss: 0.8535 - acc: 0.9077 - val_loss: 0.9230 - val_acc: 0.8931\n",
            "Epoch 41/300\n",
            "390/390 [==============================] - 23s 60ms/step - loss: 0.8476 - acc: 0.9088 - val_loss: 0.9208 - val_acc: 0.8932\n",
            "Epoch 42/300\n",
            "390/390 [==============================] - 25s 63ms/step - loss: 0.8385 - acc: 0.9141 - val_loss: 0.9126 - val_acc: 0.8949\n",
            "Epoch 43/300\n",
            "390/390 [==============================] - 24s 61ms/step - loss: 0.8313 - acc: 0.9139 - val_loss: 0.9229 - val_acc: 0.8917\n",
            "Epoch 44/300\n",
            "390/390 [==============================] - 23s 60ms/step - loss: 0.8296 - acc: 0.9147 - val_loss: 0.9043 - val_acc: 0.8970\n",
            "Epoch 45/300\n",
            "390/390 [==============================] - 24s 61ms/step - loss: 0.8228 - acc: 0.9161 - val_loss: 0.8982 - val_acc: 0.8969\n",
            "Epoch 46/300\n",
            "390/390 [==============================] - 23s 60ms/step - loss: 0.8143 - acc: 0.9194 - val_loss: 0.8940 - val_acc: 0.9001\n",
            "Epoch 47/300\n",
            "390/390 [==============================] - 23s 59ms/step - loss: 0.8125 - acc: 0.9210 - val_loss: 0.8940 - val_acc: 0.8975\n",
            "Epoch 48/300\n",
            "390/390 [==============================] - 23s 59ms/step - loss: 0.8130 - acc: 0.9198 - val_loss: 0.8917 - val_acc: 0.9004\n",
            "Epoch 49/300\n",
            "390/390 [==============================] - 23s 60ms/step - loss: 0.8120 - acc: 0.9205 - val_loss: 0.8912 - val_acc: 0.9005\n",
            "Epoch 50/300\n",
            "390/390 [==============================] - 23s 60ms/step - loss: 0.8085 - acc: 0.9215 - val_loss: 0.8925 - val_acc: 0.9003\n",
            "\n",
            "Epoch 00050: val_loss improved from inf to 0.89246, saving model to best_model.h5\n",
            "Epoch 51/300\n",
            "390/390 [==============================] - 24s 60ms/step - loss: 0.8075 - acc: 0.9218 - val_loss: 0.8939 - val_acc: 0.9006\n",
            "Epoch 52/300\n",
            "390/390 [==============================] - 23s 60ms/step - loss: 0.8078 - acc: 0.9208 - val_loss: 0.8952 - val_acc: 0.9001\n",
            "Epoch 53/300\n",
            "390/390 [==============================] - 23s 59ms/step - loss: 0.8065 - acc: 0.9205 - val_loss: 0.8964 - val_acc: 0.8990\n",
            "Epoch 54/300\n",
            "390/390 [==============================] - 23s 60ms/step - loss: 0.8069 - acc: 0.9203 - val_loss: 0.8929 - val_acc: 0.9007\n",
            "Epoch 55/300\n",
            "390/390 [==============================] - 23s 60ms/step - loss: 0.8013 - acc: 0.9225 - val_loss: 0.8973 - val_acc: 0.8976\n",
            "Epoch 56/300\n",
            "390/390 [==============================] - 24s 62ms/step - loss: 0.8044 - acc: 0.9214 - val_loss: 0.8939 - val_acc: 0.8992\n",
            "Epoch 57/300\n",
            "390/390 [==============================] - 24s 62ms/step - loss: 0.8009 - acc: 0.9220 - val_loss: 0.8953 - val_acc: 0.8971\n",
            "Epoch 58/300\n",
            "390/390 [==============================] - 23s 59ms/step - loss: 0.8004 - acc: 0.9214 - val_loss: 0.8952 - val_acc: 0.8976\n",
            "Epoch 59/300\n",
            "390/390 [==============================] - 24s 60ms/step - loss: 0.7944 - acc: 0.9231 - val_loss: 0.8900 - val_acc: 0.8997\n",
            "Epoch 60/300\n",
            "390/390 [==============================] - 23s 60ms/step - loss: 0.7910 - acc: 0.9245 - val_loss: 0.8903 - val_acc: 0.9001\n",
            "Epoch 61/300\n",
            "390/390 [==============================] - 23s 60ms/step - loss: 0.7947 - acc: 0.9234 - val_loss: 0.8846 - val_acc: 0.9001\n",
            "Epoch 62/300\n",
            "390/390 [==============================] - 24s 61ms/step - loss: 0.7893 - acc: 0.9241 - val_loss: 0.8862 - val_acc: 0.9000\n",
            "Epoch 63/300\n",
            "390/390 [==============================] - 23s 60ms/step - loss: 0.7843 - acc: 0.9268 - val_loss: 0.8850 - val_acc: 0.9013\n",
            "Epoch 64/300\n",
            "390/390 [==============================] - 23s 60ms/step - loss: 0.7817 - acc: 0.9282 - val_loss: 0.8841 - val_acc: 0.9002\n",
            "Epoch 65/300\n",
            "390/390 [==============================] - 23s 60ms/step - loss: 0.7863 - acc: 0.9260 - val_loss: 0.8844 - val_acc: 0.9000\n",
            "Epoch 66/300\n",
            "390/390 [==============================] - 24s 61ms/step - loss: 0.7882 - acc: 0.9258 - val_loss: 0.8844 - val_acc: 0.9006\n",
            "Epoch 67/300\n",
            "390/390 [==============================] - 24s 63ms/step - loss: 0.7848 - acc: 0.9265 - val_loss: 0.8860 - val_acc: 0.9017\n",
            "Epoch 68/300\n",
            "390/390 [==============================] - 23s 60ms/step - loss: 0.7852 - acc: 0.9276 - val_loss: 0.8844 - val_acc: 0.8994\n",
            "Epoch 69/300\n",
            "390/390 [==============================] - 24s 60ms/step - loss: 0.7862 - acc: 0.9265 - val_loss: 0.8838 - val_acc: 0.9013\n",
            "Epoch 70/300\n",
            "390/390 [==============================] - 23s 59ms/step - loss: 0.7826 - acc: 0.9281 - val_loss: 0.8851 - val_acc: 0.9005\n",
            "Epoch 71/300\n",
            "390/390 [==============================] - 23s 59ms/step - loss: 0.7850 - acc: 0.9253 - val_loss: 0.8833 - val_acc: 0.9024\n",
            "Epoch 72/300\n",
            "390/390 [==============================] - 23s 60ms/step - loss: 0.7833 - acc: 0.9262 - val_loss: 0.8859 - val_acc: 0.8995\n",
            "Epoch 73/300\n",
            "390/390 [==============================] - 23s 59ms/step - loss: 0.7820 - acc: 0.9275 - val_loss: 0.8843 - val_acc: 0.9002\n",
            "Epoch 74/300\n",
            "390/390 [==============================] - 23s 60ms/step - loss: 0.7803 - acc: 0.9281 - val_loss: 0.8832 - val_acc: 0.9018\n",
            "Epoch 75/300\n",
            "390/390 [==============================] - 23s 59ms/step - loss: 0.7790 - acc: 0.9282 - val_loss: 0.8842 - val_acc: 0.8998\n",
            "Epoch 76/300\n",
            "390/390 [==============================] - 23s 59ms/step - loss: 0.7809 - acc: 0.9288 - val_loss: 0.8826 - val_acc: 0.9005\n",
            "Epoch 77/300\n",
            "390/390 [==============================] - 23s 60ms/step - loss: 0.7810 - acc: 0.9267 - val_loss: 0.8824 - val_acc: 0.9002\n",
            "Epoch 78/300\n",
            "390/390 [==============================] - 23s 59ms/step - loss: 0.7791 - acc: 0.9273 - val_loss: 0.8816 - val_acc: 0.9011\n",
            "Epoch 79/300\n",
            "390/390 [==============================] - 23s 59ms/step - loss: 0.7798 - acc: 0.9286 - val_loss: 0.8811 - val_acc: 0.9006\n",
            "Epoch 80/300\n",
            "390/390 [==============================] - 23s 59ms/step - loss: 0.7806 - acc: 0.9278 - val_loss: 0.8813 - val_acc: 0.9003\n",
            "Epoch 81/300\n",
            "390/390 [==============================] - 23s 59ms/step - loss: 0.7812 - acc: 0.9282 - val_loss: 0.8813 - val_acc: 0.9006\n",
            "Epoch 82/300\n",
            "390/390 [==============================] - 23s 59ms/step - loss: 0.7803 - acc: 0.9271 - val_loss: 0.8816 - val_acc: 0.9006\n",
            "Epoch 83/300\n",
            "390/390 [==============================] - 23s 59ms/step - loss: 0.7755 - acc: 0.9300 - val_loss: 0.8816 - val_acc: 0.9014\n",
            "Epoch 84/300\n",
            "390/390 [==============================] - 23s 59ms/step - loss: 0.7783 - acc: 0.9276 - val_loss: 0.8810 - val_acc: 0.9009\n",
            "Epoch 85/300\n",
            "390/390 [==============================] - 23s 59ms/step - loss: 0.7736 - acc: 0.9294 - val_loss: 0.8815 - val_acc: 0.9012\n",
            "Epoch 86/300\n",
            "390/390 [==============================] - 23s 59ms/step - loss: 0.7777 - acc: 0.9293 - val_loss: 0.8816 - val_acc: 0.9006\n",
            "Epoch 87/300\n",
            "390/390 [==============================] - 23s 59ms/step - loss: 0.7769 - acc: 0.9276 - val_loss: 0.8812 - val_acc: 0.9014\n",
            "Epoch 88/300\n",
            "390/390 [==============================] - 23s 59ms/step - loss: 0.7720 - acc: 0.9300 - val_loss: 0.8810 - val_acc: 0.9004\n",
            "Epoch 89/300\n",
            "390/390 [==============================] - 23s 60ms/step - loss: 0.7759 - acc: 0.9280 - val_loss: 0.8806 - val_acc: 0.9004\n",
            "Epoch 90/300\n",
            "390/390 [==============================] - 23s 59ms/step - loss: 0.7745 - acc: 0.9288 - val_loss: 0.8817 - val_acc: 0.9004\n",
            "Epoch 91/300\n",
            "390/390 [==============================] - 23s 60ms/step - loss: 0.7747 - acc: 0.9286 - val_loss: 0.8800 - val_acc: 0.9014\n",
            "Epoch 92/300\n",
            "390/390 [==============================] - 23s 60ms/step - loss: 0.7752 - acc: 0.9280 - val_loss: 0.8796 - val_acc: 0.9007\n",
            "Epoch 93/300\n",
            "390/390 [==============================] - 23s 60ms/step - loss: 0.7738 - acc: 0.9295 - val_loss: 0.8801 - val_acc: 0.9000\n",
            "Epoch 94/300\n",
            "390/390 [==============================] - 23s 59ms/step - loss: 0.7749 - acc: 0.9289 - val_loss: 0.8801 - val_acc: 0.9004\n",
            "Epoch 95/300\n",
            "390/390 [==============================] - 23s 60ms/step - loss: 0.7752 - acc: 0.9289 - val_loss: 0.8798 - val_acc: 0.8999\n",
            "Epoch 96/300\n",
            "390/390 [==============================] - 23s 60ms/step - loss: 0.7694 - acc: 0.9313 - val_loss: 0.8804 - val_acc: 0.8995\n",
            "Epoch 97/300\n",
            "390/390 [==============================] - 23s 60ms/step - loss: 0.7727 - acc: 0.9294 - val_loss: 0.8798 - val_acc: 0.9001\n",
            "Epoch 98/300\n",
            "390/390 [==============================] - 23s 59ms/step - loss: 0.7728 - acc: 0.9305 - val_loss: 0.8798 - val_acc: 0.9003\n",
            "Epoch 99/300\n",
            "390/390 [==============================] - 23s 59ms/step - loss: 0.7752 - acc: 0.9281 - val_loss: 0.8794 - val_acc: 0.8999\n",
            "Epoch 100/300\n",
            "390/390 [==============================] - 23s 60ms/step - loss: 0.7732 - acc: 0.9288 - val_loss: 0.8794 - val_acc: 0.9004\n",
            "\n",
            "Epoch 00100: val_loss improved from 0.89246 to 0.87940, saving model to best_model.h5\n",
            "Epoch 101/300\n",
            "390/390 [==============================] - 23s 60ms/step - loss: 0.7718 - acc: 0.9299 - val_loss: 0.8791 - val_acc: 0.9003\n",
            "Epoch 102/300\n",
            "390/390 [==============================] - 23s 59ms/step - loss: 0.7754 - acc: 0.9298 - val_loss: 0.8802 - val_acc: 0.9006\n",
            "Epoch 103/300\n",
            "390/390 [==============================] - 23s 60ms/step - loss: 0.7704 - acc: 0.9295 - val_loss: 0.8798 - val_acc: 0.9006\n",
            "Epoch 104/300\n",
            "390/390 [==============================] - 23s 60ms/step - loss: 0.7702 - acc: 0.9292 - val_loss: 0.8804 - val_acc: 0.9002\n",
            "Epoch 105/300\n",
            "390/390 [==============================] - 23s 60ms/step - loss: 0.7708 - acc: 0.9307 - val_loss: 0.8801 - val_acc: 0.9005\n",
            "Epoch 106/300\n",
            "390/390 [==============================] - 23s 60ms/step - loss: 0.7717 - acc: 0.9295 - val_loss: 0.8803 - val_acc: 0.8994\n",
            "Epoch 107/300\n",
            "390/390 [==============================] - 23s 59ms/step - loss: 0.7707 - acc: 0.9307 - val_loss: 0.8796 - val_acc: 0.9004\n",
            "Epoch 108/300\n",
            "390/390 [==============================] - 23s 59ms/step - loss: 0.7690 - acc: 0.9305 - val_loss: 0.8793 - val_acc: 0.9003\n",
            "Epoch 109/300\n",
            "390/390 [==============================] - 23s 60ms/step - loss: 0.7729 - acc: 0.9300 - val_loss: 0.8797 - val_acc: 0.9009\n",
            "Epoch 110/300\n",
            "390/390 [==============================] - 23s 59ms/step - loss: 0.7689 - acc: 0.9310 - val_loss: 0.8796 - val_acc: 0.9010\n",
            "Epoch 111/300\n",
            "390/390 [==============================] - 23s 59ms/step - loss: 0.7708 - acc: 0.9300 - val_loss: 0.8799 - val_acc: 0.8999\n",
            "Epoch 112/300\n",
            "390/390 [==============================] - 23s 59ms/step - loss: 0.7685 - acc: 0.9309 - val_loss: 0.8794 - val_acc: 0.9008\n",
            "Epoch 113/300\n",
            "390/390 [==============================] - 23s 59ms/step - loss: 0.7688 - acc: 0.9313 - val_loss: 0.8795 - val_acc: 0.9002\n",
            "Epoch 114/300\n",
            "390/390 [==============================] - 23s 60ms/step - loss: 0.7733 - acc: 0.9286 - val_loss: 0.8798 - val_acc: 0.9010\n",
            "Epoch 115/300\n",
            "390/390 [==============================] - 23s 60ms/step - loss: 0.7710 - acc: 0.9300 - val_loss: 0.8796 - val_acc: 0.9003\n",
            "Epoch 116/300\n",
            "390/390 [==============================] - 23s 60ms/step - loss: 0.7750 - acc: 0.9276 - val_loss: 0.8798 - val_acc: 0.9005\n",
            "Epoch 117/300\n",
            "390/390 [==============================] - 23s 59ms/step - loss: 0.7696 - acc: 0.9313 - val_loss: 0.8800 - val_acc: 0.9004\n",
            "Epoch 118/300\n",
            "390/390 [==============================] - 23s 59ms/step - loss: 0.7696 - acc: 0.9319 - val_loss: 0.8795 - val_acc: 0.9015\n",
            "Epoch 119/300\n",
            "390/390 [==============================] - 23s 60ms/step - loss: 0.7700 - acc: 0.9297 - val_loss: 0.8799 - val_acc: 0.9014\n",
            "Epoch 120/300\n",
            "390/390 [==============================] - 23s 60ms/step - loss: 0.7698 - acc: 0.9307 - val_loss: 0.8799 - val_acc: 0.9010\n",
            "Epoch 121/300\n",
            "390/390 [==============================] - 23s 60ms/step - loss: 0.7723 - acc: 0.9296 - val_loss: 0.8793 - val_acc: 0.9009\n",
            "Epoch 122/300\n",
            "390/390 [==============================] - 23s 60ms/step - loss: 0.7711 - acc: 0.9309 - val_loss: 0.8797 - val_acc: 0.9006\n",
            "Epoch 123/300\n",
            "390/390 [==============================] - 23s 60ms/step - loss: 0.7713 - acc: 0.9306 - val_loss: 0.8794 - val_acc: 0.9009\n",
            "Epoch 124/300\n",
            "390/390 [==============================] - 23s 60ms/step - loss: 0.7747 - acc: 0.9287 - val_loss: 0.8799 - val_acc: 0.9004\n",
            "Epoch 125/300\n",
            "390/390 [==============================] - 23s 60ms/step - loss: 0.7687 - acc: 0.9306 - val_loss: 0.8791 - val_acc: 0.9004\n",
            "Epoch 126/300\n",
            "390/390 [==============================] - 23s 60ms/step - loss: 0.7655 - acc: 0.9311 - val_loss: 0.8791 - val_acc: 0.9006\n",
            "Epoch 127/300\n",
            "390/390 [==============================] - 23s 59ms/step - loss: 0.7723 - acc: 0.9297 - val_loss: 0.8794 - val_acc: 0.9006\n",
            "Epoch 128/300\n",
            "390/390 [==============================] - 23s 60ms/step - loss: 0.7704 - acc: 0.9299 - val_loss: 0.8793 - val_acc: 0.9009\n",
            "Epoch 129/300\n",
            "390/390 [==============================] - 24s 61ms/step - loss: 0.7684 - acc: 0.9313 - val_loss: 0.8793 - val_acc: 0.9005\n",
            "Epoch 130/300\n",
            "390/390 [==============================] - 23s 60ms/step - loss: 0.7786 - acc: 0.9262 - val_loss: 0.8795 - val_acc: 0.9006\n",
            "Epoch 131/300\n",
            "390/390 [==============================] - 23s 60ms/step - loss: 0.7711 - acc: 0.9306 - val_loss: 0.8788 - val_acc: 0.9006\n",
            "Epoch 132/300\n",
            "390/390 [==============================] - 23s 60ms/step - loss: 0.7720 - acc: 0.9310 - val_loss: 0.8793 - val_acc: 0.9009\n",
            "Epoch 133/300\n",
            "390/390 [==============================] - 23s 59ms/step - loss: 0.7715 - acc: 0.9294 - val_loss: 0.8793 - val_acc: 0.9013\n",
            "Epoch 134/300\n",
            "390/390 [==============================] - 23s 60ms/step - loss: 0.7727 - acc: 0.9295 - val_loss: 0.8790 - val_acc: 0.9007\n",
            "Epoch 135/300\n",
            "390/390 [==============================] - 23s 60ms/step - loss: 0.7745 - acc: 0.9289 - val_loss: 0.8795 - val_acc: 0.9005\n",
            "Epoch 136/300\n",
            "390/390 [==============================] - 23s 59ms/step - loss: 0.7669 - acc: 0.9330 - val_loss: 0.8792 - val_acc: 0.9005\n",
            "Epoch 137/300\n",
            "390/390 [==============================] - 23s 60ms/step - loss: 0.7705 - acc: 0.9304 - val_loss: 0.8789 - val_acc: 0.9010\n",
            "Epoch 138/300\n",
            "390/390 [==============================] - 23s 59ms/step - loss: 0.7727 - acc: 0.9299 - val_loss: 0.8799 - val_acc: 0.8999\n",
            "Epoch 139/300\n",
            "390/390 [==============================] - 23s 60ms/step - loss: 0.7744 - acc: 0.9282 - val_loss: 0.8792 - val_acc: 0.9004\n",
            "Epoch 140/300\n",
            "390/390 [==============================] - 23s 59ms/step - loss: 0.7739 - acc: 0.9289 - val_loss: 0.8793 - val_acc: 0.9005\n",
            "Epoch 141/300\n",
            "390/390 [==============================] - 23s 60ms/step - loss: 0.7699 - acc: 0.9298 - val_loss: 0.8793 - val_acc: 0.9006\n",
            "Epoch 142/300\n",
            "390/390 [==============================] - 23s 60ms/step - loss: 0.7676 - acc: 0.9308 - val_loss: 0.8792 - val_acc: 0.9007\n",
            "Epoch 143/300\n",
            "390/390 [==============================] - 23s 59ms/step - loss: 0.7688 - acc: 0.9301 - val_loss: 0.8788 - val_acc: 0.9007\n",
            "Epoch 144/300\n",
            "390/390 [==============================] - 23s 59ms/step - loss: 0.7666 - acc: 0.9314 - val_loss: 0.8787 - val_acc: 0.9006\n",
            "Epoch 145/300\n",
            "390/390 [==============================] - 24s 60ms/step - loss: 0.7684 - acc: 0.9313 - val_loss: 0.8788 - val_acc: 0.9007\n",
            "Epoch 146/300\n",
            "390/390 [==============================] - 23s 60ms/step - loss: 0.7717 - acc: 0.9293 - val_loss: 0.8789 - val_acc: 0.9004\n",
            "Epoch 147/300\n",
            "390/390 [==============================] - 23s 59ms/step - loss: 0.7721 - acc: 0.9295 - val_loss: 0.8791 - val_acc: 0.9008\n",
            "Epoch 148/300\n",
            "390/390 [==============================] - 23s 59ms/step - loss: 0.7682 - acc: 0.9310 - val_loss: 0.8791 - val_acc: 0.9009\n",
            "Epoch 149/300\n",
            "390/390 [==============================] - 23s 60ms/step - loss: 0.7707 - acc: 0.9289 - val_loss: 0.8787 - val_acc: 0.9007\n",
            "Epoch 150/300\n",
            "390/390 [==============================] - 24s 61ms/step - loss: 0.7699 - acc: 0.9297 - val_loss: 0.8790 - val_acc: 0.9009\n",
            "\n",
            "Epoch 00150: val_loss improved from 0.87940 to 0.87898, saving model to best_model.h5\n",
            "Epoch 151/300\n",
            "390/390 [==============================] - 24s 61ms/step - loss: 0.7743 - acc: 0.9287 - val_loss: 0.8793 - val_acc: 0.9007\n",
            "Epoch 152/300\n",
            "390/390 [==============================] - 24s 62ms/step - loss: 0.7668 - acc: 0.9312 - val_loss: 0.8788 - val_acc: 0.9002\n",
            "Epoch 153/300\n",
            "390/390 [==============================] - 24s 61ms/step - loss: 0.7709 - acc: 0.9303 - val_loss: 0.8792 - val_acc: 0.9007\n",
            "Epoch 154/300\n",
            "390/390 [==============================] - 23s 60ms/step - loss: 0.7670 - acc: 0.9312 - val_loss: 0.8789 - val_acc: 0.9009\n",
            "Epoch 155/300\n",
            "390/390 [==============================] - 24s 61ms/step - loss: 0.7673 - acc: 0.9316 - val_loss: 0.8789 - val_acc: 0.9008\n",
            "Epoch 156/300\n",
            "390/390 [==============================] - 23s 60ms/step - loss: 0.7676 - acc: 0.9298 - val_loss: 0.8789 - val_acc: 0.9011\n",
            "Epoch 157/300\n",
            "390/390 [==============================] - 24s 61ms/step - loss: 0.7698 - acc: 0.9294 - val_loss: 0.8786 - val_acc: 0.9002\n",
            "Epoch 158/300\n",
            "390/390 [==============================] - 23s 60ms/step - loss: 0.7697 - acc: 0.9315 - val_loss: 0.8791 - val_acc: 0.9007\n",
            "Epoch 159/300\n",
            "390/390 [==============================] - 23s 60ms/step - loss: 0.7677 - acc: 0.9312 - val_loss: 0.8789 - val_acc: 0.9005\n",
            "Epoch 160/300\n",
            "390/390 [==============================] - 24s 60ms/step - loss: 0.7718 - acc: 0.9300 - val_loss: 0.8788 - val_acc: 0.9012\n",
            "Epoch 161/300\n",
            "390/390 [==============================] - 24s 61ms/step - loss: 0.7687 - acc: 0.9312 - val_loss: 0.8794 - val_acc: 0.9006\n",
            "Epoch 162/300\n",
            "390/390 [==============================] - 25s 63ms/step - loss: 0.7694 - acc: 0.9309 - val_loss: 0.8791 - val_acc: 0.9010\n",
            "Epoch 163/300\n",
            "390/390 [==============================] - 24s 61ms/step - loss: 0.7695 - acc: 0.9312 - val_loss: 0.8789 - val_acc: 0.9011\n",
            "Epoch 164/300\n",
            "390/390 [==============================] - 23s 60ms/step - loss: 0.7692 - acc: 0.9307 - val_loss: 0.8790 - val_acc: 0.9010\n",
            "Epoch 165/300\n",
            "390/390 [==============================] - 24s 61ms/step - loss: 0.7721 - acc: 0.9300 - val_loss: 0.8789 - val_acc: 0.9008\n",
            "Epoch 166/300\n",
            "390/390 [==============================] - 23s 60ms/step - loss: 0.7755 - acc: 0.9282 - val_loss: 0.8791 - val_acc: 0.9010\n",
            "Epoch 167/300\n",
            "390/390 [==============================] - 23s 60ms/step - loss: 0.7735 - acc: 0.9288 - val_loss: 0.8790 - val_acc: 0.9009\n",
            "Epoch 168/300\n",
            "390/390 [==============================] - 23s 59ms/step - loss: 0.7674 - acc: 0.9323 - val_loss: 0.8790 - val_acc: 0.9002\n",
            "Epoch 169/300\n",
            "390/390 [==============================] - 23s 60ms/step - loss: 0.7712 - acc: 0.9312 - val_loss: 0.8788 - val_acc: 0.9006\n",
            "Epoch 170/300\n",
            "390/390 [==============================] - 24s 60ms/step - loss: 0.7674 - acc: 0.9316 - val_loss: 0.8792 - val_acc: 0.9009\n",
            "Epoch 171/300\n",
            "390/390 [==============================] - 23s 60ms/step - loss: 0.7658 - acc: 0.9310 - val_loss: 0.8790 - val_acc: 0.9012\n",
            "Epoch 172/300\n",
            "390/390 [==============================] - 24s 60ms/step - loss: 0.7703 - acc: 0.9295 - val_loss: 0.8789 - val_acc: 0.9004\n",
            "Epoch 173/300\n",
            "390/390 [==============================] - 23s 60ms/step - loss: 0.7725 - acc: 0.9293 - val_loss: 0.8792 - val_acc: 0.9012\n",
            "Epoch 174/300\n",
            "390/390 [==============================] - 23s 60ms/step - loss: 0.7687 - acc: 0.9307 - val_loss: 0.8791 - val_acc: 0.9008\n",
            "Epoch 175/300\n",
            "390/390 [==============================] - 23s 60ms/step - loss: 0.7719 - acc: 0.9291 - val_loss: 0.8786 - val_acc: 0.9010\n",
            "Epoch 176/300\n",
            "390/390 [==============================] - 24s 60ms/step - loss: 0.7692 - acc: 0.9297 - val_loss: 0.8791 - val_acc: 0.9008\n",
            "Epoch 177/300\n",
            "390/390 [==============================] - 24s 60ms/step - loss: 0.7701 - acc: 0.9304 - val_loss: 0.8790 - val_acc: 0.9008\n",
            "Epoch 178/300\n",
            "390/390 [==============================] - 23s 60ms/step - loss: 0.7637 - acc: 0.9328 - val_loss: 0.8787 - val_acc: 0.9010\n",
            "Epoch 179/300\n",
            "390/390 [==============================] - 23s 60ms/step - loss: 0.7706 - acc: 0.9309 - val_loss: 0.8788 - val_acc: 0.9015\n",
            "Epoch 180/300\n",
            "390/390 [==============================] - 23s 60ms/step - loss: 0.7689 - acc: 0.9306 - val_loss: 0.8787 - val_acc: 0.9006\n",
            "Epoch 181/300\n",
            "390/390 [==============================] - 24s 60ms/step - loss: 0.7699 - acc: 0.9295 - val_loss: 0.8788 - val_acc: 0.9007\n",
            "Epoch 182/300\n",
            "390/390 [==============================] - 23s 59ms/step - loss: 0.7700 - acc: 0.9303 - val_loss: 0.8791 - val_acc: 0.9009\n",
            "Epoch 183/300\n",
            "390/390 [==============================] - 23s 59ms/step - loss: 0.7734 - acc: 0.9288 - val_loss: 0.8790 - val_acc: 0.9009\n",
            "Epoch 184/300\n",
            "390/390 [==============================] - 23s 60ms/step - loss: 0.7683 - acc: 0.9313 - val_loss: 0.8790 - val_acc: 0.9004\n",
            "Epoch 185/300\n",
            "390/390 [==============================] - 24s 60ms/step - loss: 0.7703 - acc: 0.9297 - val_loss: 0.8785 - val_acc: 0.9014\n",
            "Epoch 186/300\n",
            "390/390 [==============================] - 23s 60ms/step - loss: 0.7693 - acc: 0.9310 - val_loss: 0.8788 - val_acc: 0.9007\n",
            "Epoch 187/300\n",
            "390/390 [==============================] - 23s 60ms/step - loss: 0.7695 - acc: 0.9313 - val_loss: 0.8787 - val_acc: 0.9011\n",
            "Epoch 188/300\n",
            "390/390 [==============================] - 24s 60ms/step - loss: 0.7689 - acc: 0.9323 - val_loss: 0.8789 - val_acc: 0.9011\n",
            "Epoch 189/300\n",
            "390/390 [==============================] - 23s 60ms/step - loss: 0.7688 - acc: 0.9313 - val_loss: 0.8787 - val_acc: 0.9008\n",
            "Epoch 190/300\n",
            "390/390 [==============================] - 23s 60ms/step - loss: 0.7720 - acc: 0.9298 - val_loss: 0.8787 - val_acc: 0.9009\n",
            "Epoch 191/300\n",
            "390/390 [==============================] - 23s 59ms/step - loss: 0.7674 - acc: 0.9311 - val_loss: 0.8788 - val_acc: 0.9009\n",
            "Epoch 192/300\n",
            "390/390 [==============================] - 23s 60ms/step - loss: 0.7690 - acc: 0.9301 - val_loss: 0.8786 - val_acc: 0.9008\n",
            "Epoch 193/300\n",
            "390/390 [==============================] - 23s 59ms/step - loss: 0.7714 - acc: 0.9300 - val_loss: 0.8786 - val_acc: 0.9011\n",
            "Epoch 194/300\n",
            "390/390 [==============================] - 23s 59ms/step - loss: 0.7696 - acc: 0.9310 - val_loss: 0.8786 - val_acc: 0.9009\n",
            "Epoch 195/300\n",
            "390/390 [==============================] - 23s 59ms/step - loss: 0.7699 - acc: 0.9312 - val_loss: 0.8788 - val_acc: 0.9006\n",
            "Epoch 196/300\n",
            "390/390 [==============================] - 23s 60ms/step - loss: 0.7715 - acc: 0.9292 - val_loss: 0.8789 - val_acc: 0.9015\n",
            "Epoch 197/300\n",
            "390/390 [==============================] - 24s 61ms/step - loss: 0.7710 - acc: 0.9301 - val_loss: 0.8787 - val_acc: 0.9009\n",
            "Epoch 198/300\n",
            "390/390 [==============================] - 23s 60ms/step - loss: 0.7739 - acc: 0.9281 - val_loss: 0.8792 - val_acc: 0.9007\n",
            "Epoch 199/300\n",
            "390/390 [==============================] - 23s 59ms/step - loss: 0.7675 - acc: 0.9307 - val_loss: 0.8785 - val_acc: 0.9010\n",
            "Epoch 200/300\n",
            "390/390 [==============================] - 23s 60ms/step - loss: 0.7682 - acc: 0.9299 - val_loss: 0.8789 - val_acc: 0.9011\n",
            "\n",
            "Epoch 00200: val_loss improved from 0.87898 to 0.87888, saving model to best_model.h5\n",
            "Epoch 201/300\n",
            "390/390 [==============================] - 23s 60ms/step - loss: 0.7686 - acc: 0.9309 - val_loss: 0.8787 - val_acc: 0.9006\n",
            "Epoch 202/300\n",
            "390/390 [==============================] - 23s 60ms/step - loss: 0.7701 - acc: 0.9294 - val_loss: 0.8791 - val_acc: 0.9007\n",
            "Epoch 203/300\n",
            "390/390 [==============================] - 23s 59ms/step - loss: 0.7637 - acc: 0.9330 - val_loss: 0.8784 - val_acc: 0.9013\n",
            "Epoch 204/300\n",
            "390/390 [==============================] - 23s 59ms/step - loss: 0.7695 - acc: 0.9312 - val_loss: 0.8788 - val_acc: 0.9011\n",
            "Epoch 205/300\n",
            "390/390 [==============================] - 23s 59ms/step - loss: 0.7710 - acc: 0.9301 - val_loss: 0.8785 - val_acc: 0.9011\n",
            "Epoch 206/300\n",
            "390/390 [==============================] - 23s 60ms/step - loss: 0.7684 - acc: 0.9308 - val_loss: 0.8784 - val_acc: 0.9014\n",
            "Epoch 207/300\n",
            "390/390 [==============================] - 23s 59ms/step - loss: 0.7713 - acc: 0.9303 - val_loss: 0.8788 - val_acc: 0.9005\n",
            "Epoch 208/300\n",
            "390/390 [==============================] - 23s 60ms/step - loss: 0.7701 - acc: 0.9302 - val_loss: 0.8786 - val_acc: 0.9010\n",
            "Epoch 209/300\n",
            "390/390 [==============================] - 23s 60ms/step - loss: 0.7697 - acc: 0.9309 - val_loss: 0.8788 - val_acc: 0.9011\n",
            "Epoch 210/300\n",
            "390/390 [==============================] - 23s 60ms/step - loss: 0.7753 - acc: 0.9269 - val_loss: 0.8785 - val_acc: 0.9010\n",
            "Epoch 211/300\n",
            "390/390 [==============================] - 24s 61ms/step - loss: 0.7669 - acc: 0.9307 - val_loss: 0.8788 - val_acc: 0.9013\n",
            "Epoch 212/300\n",
            "390/390 [==============================] - 24s 61ms/step - loss: 0.7714 - acc: 0.9301 - val_loss: 0.8788 - val_acc: 0.9008\n",
            "Epoch 213/300\n",
            "390/390 [==============================] - 23s 60ms/step - loss: 0.7692 - acc: 0.9303 - val_loss: 0.8785 - val_acc: 0.9009\n",
            "Epoch 214/300\n",
            "390/390 [==============================] - 24s 62ms/step - loss: 0.7731 - acc: 0.9301 - val_loss: 0.8788 - val_acc: 0.9010\n",
            "Epoch 215/300\n",
            "390/390 [==============================] - 24s 61ms/step - loss: 0.7672 - acc: 0.9317 - val_loss: 0.8783 - val_acc: 0.9008\n",
            "Epoch 216/300\n",
            "390/390 [==============================] - 23s 59ms/step - loss: 0.7722 - acc: 0.9291 - val_loss: 0.8786 - val_acc: 0.9012\n",
            "Epoch 217/300\n",
            "390/390 [==============================] - 23s 59ms/step - loss: 0.7699 - acc: 0.9310 - val_loss: 0.8790 - val_acc: 0.9014\n",
            "Epoch 218/300\n",
            "390/390 [==============================] - 23s 60ms/step - loss: 0.7685 - acc: 0.9304 - val_loss: 0.8788 - val_acc: 0.9011\n",
            "Epoch 219/300\n",
            "390/390 [==============================] - 23s 60ms/step - loss: 0.7652 - acc: 0.9325 - val_loss: 0.8786 - val_acc: 0.9012\n",
            "Epoch 220/300\n",
            "390/390 [==============================] - 23s 59ms/step - loss: 0.7725 - acc: 0.9293 - val_loss: 0.8789 - val_acc: 0.9012\n",
            "Epoch 221/300\n",
            "390/390 [==============================] - 23s 59ms/step - loss: 0.7689 - acc: 0.9303 - val_loss: 0.8788 - val_acc: 0.9010\n",
            "Epoch 222/300\n",
            "390/390 [==============================] - 23s 59ms/step - loss: 0.7651 - acc: 0.9324 - val_loss: 0.8790 - val_acc: 0.9011\n",
            "Epoch 223/300\n",
            "390/390 [==============================] - 23s 59ms/step - loss: 0.7682 - acc: 0.9304 - val_loss: 0.8789 - val_acc: 0.9008\n",
            "Epoch 224/300\n",
            "390/390 [==============================] - 23s 59ms/step - loss: 0.7666 - acc: 0.9322 - val_loss: 0.8790 - val_acc: 0.9009\n",
            "Epoch 225/300\n",
            "390/390 [==============================] - 23s 59ms/step - loss: 0.7667 - acc: 0.9308 - val_loss: 0.8784 - val_acc: 0.9007\n",
            "Epoch 226/300\n",
            "390/390 [==============================] - 23s 59ms/step - loss: 0.7691 - acc: 0.9304 - val_loss: 0.8784 - val_acc: 0.9007\n",
            "Epoch 227/300\n",
            "390/390 [==============================] - 23s 59ms/step - loss: 0.7707 - acc: 0.9296 - val_loss: 0.8791 - val_acc: 0.9011\n",
            "Epoch 228/300\n",
            "390/390 [==============================] - 23s 59ms/step - loss: 0.7686 - acc: 0.9317 - val_loss: 0.8787 - val_acc: 0.9014\n",
            "Epoch 229/300\n",
            "390/390 [==============================] - 23s 59ms/step - loss: 0.7671 - acc: 0.9313 - val_loss: 0.8786 - val_acc: 0.9014\n",
            "Epoch 230/300\n",
            "390/390 [==============================] - 23s 59ms/step - loss: 0.7683 - acc: 0.9304 - val_loss: 0.8790 - val_acc: 0.9006\n",
            "Epoch 231/300\n",
            "390/390 [==============================] - 23s 59ms/step - loss: 0.7675 - acc: 0.9312 - val_loss: 0.8785 - val_acc: 0.9009\n",
            "Epoch 232/300\n",
            "390/390 [==============================] - 23s 59ms/step - loss: 0.7679 - acc: 0.9311 - val_loss: 0.8786 - val_acc: 0.9020\n",
            "Epoch 233/300\n",
            "390/390 [==============================] - 23s 60ms/step - loss: 0.7684 - acc: 0.9314 - val_loss: 0.8788 - val_acc: 0.9011\n",
            "Epoch 234/300\n",
            "390/390 [==============================] - 23s 59ms/step - loss: 0.7667 - acc: 0.9312 - val_loss: 0.8787 - val_acc: 0.9010\n",
            "Epoch 235/300\n",
            "390/390 [==============================] - 23s 59ms/step - loss: 0.7675 - acc: 0.9304 - val_loss: 0.8787 - val_acc: 0.9012\n",
            "Epoch 236/300\n",
            "390/390 [==============================] - 23s 59ms/step - loss: 0.7737 - acc: 0.9305 - val_loss: 0.8786 - val_acc: 0.9010\n",
            "Epoch 237/300\n",
            "390/390 [==============================] - 23s 59ms/step - loss: 0.7704 - acc: 0.9306 - val_loss: 0.8791 - val_acc: 0.9015\n",
            "Epoch 238/300\n",
            "390/390 [==============================] - 23s 59ms/step - loss: 0.7637 - acc: 0.9326 - val_loss: 0.8786 - val_acc: 0.9009\n",
            "Epoch 239/300\n",
            "390/390 [==============================] - 23s 59ms/step - loss: 0.7681 - acc: 0.9299 - val_loss: 0.8789 - val_acc: 0.9010\n",
            "Epoch 240/300\n",
            "390/390 [==============================] - 23s 59ms/step - loss: 0.7693 - acc: 0.9305 - val_loss: 0.8788 - val_acc: 0.9011\n",
            "Epoch 241/300\n",
            "390/390 [==============================] - 23s 59ms/step - loss: 0.7671 - acc: 0.9312 - val_loss: 0.8788 - val_acc: 0.9012\n",
            "Epoch 242/300\n",
            "390/390 [==============================] - 23s 59ms/step - loss: 0.7700 - acc: 0.9303 - val_loss: 0.8783 - val_acc: 0.9010\n",
            "Epoch 243/300\n",
            "390/390 [==============================] - 23s 60ms/step - loss: 0.7704 - acc: 0.9310 - val_loss: 0.8787 - val_acc: 0.9008\n",
            "Epoch 244/300\n",
            "390/390 [==============================] - 23s 59ms/step - loss: 0.7674 - acc: 0.9312 - val_loss: 0.8786 - val_acc: 0.9014\n",
            "Epoch 245/300\n",
            "390/390 [==============================] - 23s 59ms/step - loss: 0.7694 - acc: 0.9301 - val_loss: 0.8784 - val_acc: 0.9011\n",
            "Epoch 246/300\n",
            "390/390 [==============================] - 23s 59ms/step - loss: 0.7671 - acc: 0.9323 - val_loss: 0.8787 - val_acc: 0.9009\n",
            "Epoch 247/300\n",
            "390/390 [==============================] - 23s 59ms/step - loss: 0.7692 - acc: 0.9309 - val_loss: 0.8785 - val_acc: 0.9013\n",
            "Epoch 248/300\n",
            "390/390 [==============================] - 23s 59ms/step - loss: 0.7659 - acc: 0.9318 - val_loss: 0.8785 - val_acc: 0.9007\n",
            "Epoch 249/300\n",
            "390/390 [==============================] - 23s 59ms/step - loss: 0.7665 - acc: 0.9309 - val_loss: 0.8788 - val_acc: 0.9005\n",
            "Epoch 250/300\n",
            "390/390 [==============================] - 23s 59ms/step - loss: 0.7704 - acc: 0.9291 - val_loss: 0.8788 - val_acc: 0.9006\n",
            "\n",
            "Epoch 00250: val_loss improved from 0.87888 to 0.87884, saving model to best_model.h5\n",
            "Epoch 251/300\n",
            "390/390 [==============================] - 23s 60ms/step - loss: 0.7727 - acc: 0.9290 - val_loss: 0.8782 - val_acc: 0.9014\n",
            "Epoch 252/300\n",
            "390/390 [==============================] - 23s 59ms/step - loss: 0.7729 - acc: 0.9283 - val_loss: 0.8787 - val_acc: 0.9005\n",
            "Epoch 253/300\n",
            "390/390 [==============================] - 23s 59ms/step - loss: 0.7685 - acc: 0.9304 - val_loss: 0.8785 - val_acc: 0.9012\n",
            "Epoch 254/300\n",
            "390/390 [==============================] - 23s 60ms/step - loss: 0.7685 - acc: 0.9312 - val_loss: 0.8788 - val_acc: 0.9014\n",
            "Epoch 255/300\n",
            "390/390 [==============================] - 23s 59ms/step - loss: 0.7647 - acc: 0.9320 - val_loss: 0.8785 - val_acc: 0.9016\n",
            "Epoch 256/300\n",
            "390/390 [==============================] - 23s 59ms/step - loss: 0.7708 - acc: 0.9291 - val_loss: 0.8787 - val_acc: 0.9009\n",
            "Epoch 257/300\n",
            "390/390 [==============================] - 23s 60ms/step - loss: 0.7663 - acc: 0.9321 - val_loss: 0.8785 - val_acc: 0.9010\n",
            "Epoch 258/300\n",
            "390/390 [==============================] - 23s 59ms/step - loss: 0.7684 - acc: 0.9299 - val_loss: 0.8786 - val_acc: 0.9010\n",
            "Epoch 259/300\n",
            "390/390 [==============================] - 23s 59ms/step - loss: 0.7718 - acc: 0.9302 - val_loss: 0.8789 - val_acc: 0.9009\n",
            "Epoch 260/300\n",
            "390/390 [==============================] - 23s 59ms/step - loss: 0.7661 - acc: 0.9323 - val_loss: 0.8786 - val_acc: 0.9008\n",
            "Epoch 261/300\n",
            "390/390 [==============================] - 23s 59ms/step - loss: 0.7683 - acc: 0.9302 - val_loss: 0.8784 - val_acc: 0.9009\n",
            "Epoch 262/300\n",
            "390/390 [==============================] - 23s 59ms/step - loss: 0.7687 - acc: 0.9308 - val_loss: 0.8784 - val_acc: 0.9010\n",
            "Epoch 263/300\n",
            "390/390 [==============================] - 23s 59ms/step - loss: 0.7711 - acc: 0.9288 - val_loss: 0.8785 - val_acc: 0.9014\n",
            "Epoch 264/300\n",
            "390/390 [==============================] - 23s 59ms/step - loss: 0.7675 - acc: 0.9308 - val_loss: 0.8786 - val_acc: 0.9005\n",
            "Epoch 265/300\n",
            "390/390 [==============================] - 23s 60ms/step - loss: 0.7696 - acc: 0.9298 - val_loss: 0.8787 - val_acc: 0.9010\n",
            "Epoch 266/300\n",
            "390/390 [==============================] - 23s 60ms/step - loss: 0.7702 - acc: 0.9297 - val_loss: 0.8784 - val_acc: 0.9011\n",
            "Epoch 267/300\n",
            "390/390 [==============================] - 24s 62ms/step - loss: 0.7692 - acc: 0.9292 - val_loss: 0.8787 - val_acc: 0.9012\n",
            "Epoch 268/300\n",
            "390/390 [==============================] - 24s 62ms/step - loss: 0.7696 - acc: 0.9292 - val_loss: 0.8785 - val_acc: 0.9008\n",
            "Epoch 269/300\n",
            "390/390 [==============================] - 23s 59ms/step - loss: 0.7691 - acc: 0.9307 - val_loss: 0.8789 - val_acc: 0.9007\n",
            "Epoch 270/300\n",
            "390/390 [==============================] - 24s 60ms/step - loss: 0.7682 - acc: 0.9314 - val_loss: 0.8785 - val_acc: 0.9008\n",
            "Epoch 271/300\n",
            "390/390 [==============================] - 23s 59ms/step - loss: 0.7705 - acc: 0.9305 - val_loss: 0.8788 - val_acc: 0.9009\n",
            "Epoch 272/300\n",
            "390/390 [==============================] - 23s 59ms/step - loss: 0.7673 - acc: 0.9308 - val_loss: 0.8786 - val_acc: 0.9008\n",
            "Epoch 273/300\n",
            "390/390 [==============================] - 23s 60ms/step - loss: 0.7711 - acc: 0.9295 - val_loss: 0.8787 - val_acc: 0.9009\n",
            "Epoch 274/300\n",
            "390/390 [==============================] - 24s 60ms/step - loss: 0.7679 - acc: 0.9307 - val_loss: 0.8788 - val_acc: 0.9016\n",
            "Epoch 275/300\n",
            "390/390 [==============================] - 23s 59ms/step - loss: 0.7685 - acc: 0.9317 - val_loss: 0.8786 - val_acc: 0.9007\n",
            "Epoch 276/300\n",
            "390/390 [==============================] - 23s 60ms/step - loss: 0.7696 - acc: 0.9295 - val_loss: 0.8787 - val_acc: 0.9011\n",
            "Epoch 277/300\n",
            "390/390 [==============================] - 23s 60ms/step - loss: 0.7710 - acc: 0.9303 - val_loss: 0.8784 - val_acc: 0.9008\n",
            "Epoch 278/300\n",
            "390/390 [==============================] - 23s 59ms/step - loss: 0.7702 - acc: 0.9301 - val_loss: 0.8786 - val_acc: 0.9007\n",
            "Epoch 279/300\n",
            "390/390 [==============================] - 23s 59ms/step - loss: 0.7683 - acc: 0.9313 - val_loss: 0.8787 - val_acc: 0.9007\n",
            "Epoch 280/300\n",
            "390/390 [==============================] - 23s 60ms/step - loss: 0.7677 - acc: 0.9301 - val_loss: 0.8787 - val_acc: 0.9003\n",
            "Epoch 281/300\n",
            "390/390 [==============================] - 24s 60ms/step - loss: 0.7662 - acc: 0.9317 - val_loss: 0.8787 - val_acc: 0.9016\n",
            "Epoch 282/300\n",
            "390/390 [==============================] - 23s 60ms/step - loss: 0.7678 - acc: 0.9321 - val_loss: 0.8783 - val_acc: 0.9008\n",
            "Epoch 283/300\n",
            "390/390 [==============================] - 23s 60ms/step - loss: 0.7725 - acc: 0.9299 - val_loss: 0.8786 - val_acc: 0.9011\n",
            "Epoch 284/300\n",
            "390/390 [==============================] - 24s 60ms/step - loss: 0.7692 - acc: 0.9301 - val_loss: 0.8787 - val_acc: 0.9008\n",
            "Epoch 285/300\n",
            "390/390 [==============================] - 23s 60ms/step - loss: 0.7647 - acc: 0.9322 - val_loss: 0.8787 - val_acc: 0.9010\n",
            "Epoch 286/300\n",
            "390/390 [==============================] - 23s 59ms/step - loss: 0.7655 - acc: 0.9325 - val_loss: 0.8789 - val_acc: 0.9008\n",
            "Epoch 287/300\n",
            "390/390 [==============================] - 23s 60ms/step - loss: 0.7702 - acc: 0.9311 - val_loss: 0.8785 - val_acc: 0.9008\n",
            "Epoch 288/300\n",
            "390/390 [==============================] - 23s 60ms/step - loss: 0.7709 - acc: 0.9290 - val_loss: 0.8789 - val_acc: 0.9010\n",
            "Epoch 289/300\n",
            "390/390 [==============================] - 23s 60ms/step - loss: 0.7663 - acc: 0.9315 - val_loss: 0.8786 - val_acc: 0.9014\n",
            "Epoch 290/300\n",
            "390/390 [==============================] - 24s 61ms/step - loss: 0.7666 - acc: 0.9302 - val_loss: 0.8785 - val_acc: 0.9010\n",
            "Epoch 291/300\n",
            "390/390 [==============================] - 24s 62ms/step - loss: 0.7717 - acc: 0.9297 - val_loss: 0.8787 - val_acc: 0.9008\n",
            "Epoch 292/300\n",
            "390/390 [==============================] - 24s 62ms/step - loss: 0.7706 - acc: 0.9293 - val_loss: 0.8787 - val_acc: 0.9006\n",
            "Epoch 293/300\n",
            "390/390 [==============================] - 23s 60ms/step - loss: 0.7676 - acc: 0.9302 - val_loss: 0.8786 - val_acc: 0.9009\n",
            "Epoch 294/300\n",
            "390/390 [==============================] - 24s 60ms/step - loss: 0.7706 - acc: 0.9298 - val_loss: 0.8785 - val_acc: 0.9009\n",
            "Epoch 295/300\n",
            "390/390 [==============================] - 23s 60ms/step - loss: 0.7699 - acc: 0.9302 - val_loss: 0.8784 - val_acc: 0.9007\n",
            "Epoch 296/300\n",
            "390/390 [==============================] - 23s 60ms/step - loss: 0.7721 - acc: 0.9293 - val_loss: 0.8788 - val_acc: 0.9011\n",
            "Epoch 297/300\n",
            "390/390 [==============================] - 23s 59ms/step - loss: 0.7706 - acc: 0.9294 - val_loss: 0.8787 - val_acc: 0.9007\n",
            "Epoch 298/300\n",
            "390/390 [==============================] - 23s 60ms/step - loss: 0.7620 - acc: 0.9324 - val_loss: 0.8785 - val_acc: 0.9010\n",
            "Epoch 299/300\n",
            "390/390 [==============================] - 23s 59ms/step - loss: 0.7660 - acc: 0.9308 - val_loss: 0.8787 - val_acc: 0.9005\n",
            "Epoch 300/300\n",
            "390/390 [==============================] - 23s 60ms/step - loss: 0.7669 - acc: 0.9317 - val_loss: 0.8789 - val_acc: 0.9007\n",
            "\n",
            "Epoch 00300: val_loss did not improve from 0.87884\n"
          ],
          "name": "stdout"
        },
        {
          "output_type": "execute_result",
          "data": {
            "text/plain": [
              "<keras.callbacks.History at 0x7f9667c5ec50>"
            ]
          },
          "metadata": {
            "tags": []
          },
          "execution_count": 20
        }
      ]
    },
    {
      "cell_type": "markdown",
      "metadata": {
        "id": "rpC5QEYwZ22Y",
        "colab_type": "text"
      },
      "source": [
        "We can see that model reached 90% accuracy quite early, however, it didn't go much above than that.  "
      ]
    },
    {
      "cell_type": "code",
      "metadata": {
        "id": "lXpThjwvJlfp",
        "colab_type": "code",
        "colab": {}
      },
      "source": [
        ""
      ],
      "execution_count": 0,
      "outputs": []
    }
  ]
}